{
 "cells": [
  {
   "cell_type": "markdown",
   "id": "c0ebd9ff",
   "metadata": {},
   "source": [
    "# Week11 Lab\n",
    "\n",
    "1. Scrape the information from the following website: https://www.scrapethissite.com/pages/simple/ \n",
    "show the values in a dataframe\n",
    "1. Save the data frame as a csv file. (You will be using it a part of your homework.)"
   ]
  },
  {
   "cell_type": "code",
   "execution_count": 1,
   "id": "8f868978",
   "metadata": {},
   "outputs": [],
   "source": [
    "import pandas as pd\n",
    "from bs4 import BeautifulSoup\n",
    "import requests"
   ]
  },
  {
   "cell_type": "code",
   "execution_count": 2,
   "id": "cb5683b5",
   "metadata": {},
   "outputs": [
    {
     "data": {
      "text/plain": [
       "True"
      ]
     },
     "execution_count": 2,
     "metadata": {},
     "output_type": "execute_result"
    }
   ],
   "source": [
    "response = requests.get('https://raw.githubusercontent.com/msaricaumbc/DS_Data/master/data.html')\n",
    "response.ok"
   ]
  },
  {
   "cell_type": "code",
   "execution_count": 3,
   "id": "2b33c38d",
   "metadata": {},
   "outputs": [
    {
     "data": {
      "text/plain": [
       "'<!doctype html>\\n<html lang=\"en\"> \\n <head> \\n  <meta charset=\"utf-8\"> \\n  <title>Countries of the World: A Simple Example | Scrape This Site | A public sandbox for learning web scraping</title> \\n  <link rel=\"icon\" type=\"image/png\" href=\"/static/images/scraper-icon.png\"> \\n  <meta name=\"viewport\" content=\"width=device-width, initial-scale=1.0\"> \\n  <meta name=\"description\" content=\"A single page that lists information about all the countries in the world. Good for those just get started with web scraping.\"> \\n  <link href=\"https://maxcdn.bootstrapcdn.com/bootstrap/3.3.5/css/bootstrap.min.css\" rel=\"stylesheet\" integrity=\"sha256-MfvZlkHCEqatNoGiOXveE8FIwMzZg4W85qfrfIFBfYc= sha512-dTfge/zgoMYpP7QbHy4gWMEGsbsdZeCXz7irItjcC3sPUFtf0kuFbDz/ixG7ArTxmDjLXDmezHubeNikyKGVyQ==\" crossorigin=\"anonymous\"> \\n  <link href=\"\\\\\\'https://fonts.googleapis.com/css?family=Lato:400,700\\\\\\'\" rel=\"\\\\\\'stylesheet\\\\\\'\" type=\"\\\\\\'text/css\\\\\\'\"> \\n  <link rel=\"stylesheet\" type=\"text/css\" href=\"/static/css/styles.css\"> \\n  <meta name=\"ro'"
      ]
     },
     "execution_count": 3,
     "metadata": {},
     "output_type": "execute_result"
    }
   ],
   "source": [
    "response.text[:1000]"
   ]
  },
  {
   "cell_type": "code",
   "execution_count": 4,
   "id": "624ec5e5",
   "metadata": {},
   "outputs": [],
   "source": [
    "html_doc = response.text"
   ]
  },
  {
   "cell_type": "code",
   "execution_count": 5,
   "id": "72bc1d16",
   "metadata": {},
   "outputs": [],
   "source": [
    "soup = BeautifulSoup(html_doc, 'html.parser')"
   ]
  },
  {
   "cell_type": "code",
   "execution_count": 6,
   "id": "45560abc",
   "metadata": {},
   "outputs": [],
   "source": [
    "t = soup.find_all('div', {\"class\":\"col-md-4 country\"})"
   ]
  },
  {
   "cell_type": "code",
   "execution_count": 7,
   "id": "6b522156",
   "metadata": {},
   "outputs": [],
   "source": [
    "data=[{\"CountryName\":x.find('h3').text.strip(), \"Capital\":x.find('span', {'country-capital'}).text.strip(), \"Population\":x.find('span', {'country-population'}).text.strip(), \"Area\":x.find('span', {'country-area'}).text.strip()} for x in t]"
   ]
  },
  {
   "cell_type": "code",
   "execution_count": 8,
   "id": "5a61ce63",
   "metadata": {},
   "outputs": [],
   "source": [
    "df=pd.DataFrame(data)"
   ]
  },
  {
   "cell_type": "code",
   "execution_count": 9,
   "id": "c128eee3",
   "metadata": {},
   "outputs": [],
   "source": [
    "df.to_csv('countrydata.csv', sep=',')"
   ]
  },
  {
   "cell_type": "code",
   "execution_count": 10,
   "id": "ecb29e81",
   "metadata": {},
   "outputs": [
    {
     "data": {
      "text/html": [
       "<div>\n",
       "<style scoped>\n",
       "    .dataframe tbody tr th:only-of-type {\n",
       "        vertical-align: middle;\n",
       "    }\n",
       "\n",
       "    .dataframe tbody tr th {\n",
       "        vertical-align: top;\n",
       "    }\n",
       "\n",
       "    .dataframe thead th {\n",
       "        text-align: right;\n",
       "    }\n",
       "</style>\n",
       "<table border=\"1\" class=\"dataframe\">\n",
       "  <thead>\n",
       "    <tr style=\"text-align: right;\">\n",
       "      <th></th>\n",
       "      <th>CountryName</th>\n",
       "      <th>Capital</th>\n",
       "      <th>Population</th>\n",
       "      <th>Area</th>\n",
       "    </tr>\n",
       "  </thead>\n",
       "  <tbody>\n",
       "    <tr>\n",
       "      <th>0</th>\n",
       "      <td>Andorra</td>\n",
       "      <td>Andorra la Vella</td>\n",
       "      <td>84000</td>\n",
       "      <td>468.0</td>\n",
       "    </tr>\n",
       "    <tr>\n",
       "      <th>1</th>\n",
       "      <td>United Arab Emirates</td>\n",
       "      <td>Abu Dhabi</td>\n",
       "      <td>4975593</td>\n",
       "      <td>82880.0</td>\n",
       "    </tr>\n",
       "    <tr>\n",
       "      <th>2</th>\n",
       "      <td>Afghanistan</td>\n",
       "      <td>Kabul</td>\n",
       "      <td>29121286</td>\n",
       "      <td>647500.0</td>\n",
       "    </tr>\n",
       "    <tr>\n",
       "      <th>3</th>\n",
       "      <td>Antigua and Barbuda</td>\n",
       "      <td>St. John's</td>\n",
       "      <td>86754</td>\n",
       "      <td>443.0</td>\n",
       "    </tr>\n",
       "    <tr>\n",
       "      <th>4</th>\n",
       "      <td>Anguilla</td>\n",
       "      <td>The Valley</td>\n",
       "      <td>13254</td>\n",
       "      <td>102.0</td>\n",
       "    </tr>\n",
       "    <tr>\n",
       "      <th>5</th>\n",
       "      <td>Albania</td>\n",
       "      <td>Tirana</td>\n",
       "      <td>2986952</td>\n",
       "      <td>28748.0</td>\n",
       "    </tr>\n",
       "    <tr>\n",
       "      <th>6</th>\n",
       "      <td>Armenia</td>\n",
       "      <td>Yerevan</td>\n",
       "      <td>2968000</td>\n",
       "      <td>29800.0</td>\n",
       "    </tr>\n",
       "    <tr>\n",
       "      <th>7</th>\n",
       "      <td>Angola</td>\n",
       "      <td>Luanda</td>\n",
       "      <td>13068161</td>\n",
       "      <td>1246700.0</td>\n",
       "    </tr>\n",
       "    <tr>\n",
       "      <th>8</th>\n",
       "      <td>Antarctica</td>\n",
       "      <td>None</td>\n",
       "      <td>0</td>\n",
       "      <td>1.4E7</td>\n",
       "    </tr>\n",
       "    <tr>\n",
       "      <th>9</th>\n",
       "      <td>Argentina</td>\n",
       "      <td>Buenos Aires</td>\n",
       "      <td>41343201</td>\n",
       "      <td>2766890.0</td>\n",
       "    </tr>\n",
       "    <tr>\n",
       "      <th>10</th>\n",
       "      <td>American Samoa</td>\n",
       "      <td>Pago Pago</td>\n",
       "      <td>57881</td>\n",
       "      <td>199.0</td>\n",
       "    </tr>\n",
       "    <tr>\n",
       "      <th>11</th>\n",
       "      <td>Austria</td>\n",
       "      <td>Vienna</td>\n",
       "      <td>8205000</td>\n",
       "      <td>83858.0</td>\n",
       "    </tr>\n",
       "    <tr>\n",
       "      <th>12</th>\n",
       "      <td>Australia</td>\n",
       "      <td>Canberra</td>\n",
       "      <td>21515754</td>\n",
       "      <td>7686850.0</td>\n",
       "    </tr>\n",
       "    <tr>\n",
       "      <th>13</th>\n",
       "      <td>Aruba</td>\n",
       "      <td>Oranjestad</td>\n",
       "      <td>71566</td>\n",
       "      <td>193.0</td>\n",
       "    </tr>\n",
       "    <tr>\n",
       "      <th>14</th>\n",
       "      <td>Åland</td>\n",
       "      <td>Mariehamn</td>\n",
       "      <td>26711</td>\n",
       "      <td>1580.0</td>\n",
       "    </tr>\n",
       "    <tr>\n",
       "      <th>15</th>\n",
       "      <td>Azerbaijan</td>\n",
       "      <td>Baku</td>\n",
       "      <td>8303512</td>\n",
       "      <td>86600.0</td>\n",
       "    </tr>\n",
       "    <tr>\n",
       "      <th>16</th>\n",
       "      <td>Bosnia and Herzegovina</td>\n",
       "      <td>Sarajevo</td>\n",
       "      <td>4590000</td>\n",
       "      <td>51129.0</td>\n",
       "    </tr>\n",
       "    <tr>\n",
       "      <th>17</th>\n",
       "      <td>Barbados</td>\n",
       "      <td>Bridgetown</td>\n",
       "      <td>285653</td>\n",
       "      <td>431.0</td>\n",
       "    </tr>\n",
       "    <tr>\n",
       "      <th>18</th>\n",
       "      <td>Bangladesh</td>\n",
       "      <td>Dhaka</td>\n",
       "      <td>156118464</td>\n",
       "      <td>144000.0</td>\n",
       "    </tr>\n",
       "    <tr>\n",
       "      <th>19</th>\n",
       "      <td>Belgium</td>\n",
       "      <td>Brussels</td>\n",
       "      <td>10403000</td>\n",
       "      <td>30510.0</td>\n",
       "    </tr>\n",
       "  </tbody>\n",
       "</table>\n",
       "</div>"
      ],
      "text/plain": [
       "               CountryName           Capital Population       Area\n",
       "0                  Andorra  Andorra la Vella      84000      468.0\n",
       "1     United Arab Emirates         Abu Dhabi    4975593    82880.0\n",
       "2              Afghanistan             Kabul   29121286   647500.0\n",
       "3      Antigua and Barbuda        St. John's      86754      443.0\n",
       "4                 Anguilla        The Valley      13254      102.0\n",
       "5                  Albania            Tirana    2986952    28748.0\n",
       "6                  Armenia           Yerevan    2968000    29800.0\n",
       "7                   Angola            Luanda   13068161  1246700.0\n",
       "8               Antarctica              None          0      1.4E7\n",
       "9                Argentina      Buenos Aires   41343201  2766890.0\n",
       "10          American Samoa         Pago Pago      57881      199.0\n",
       "11                 Austria            Vienna    8205000    83858.0\n",
       "12               Australia          Canberra   21515754  7686850.0\n",
       "13                   Aruba        Oranjestad      71566      193.0\n",
       "14                   Åland         Mariehamn      26711     1580.0\n",
       "15              Azerbaijan              Baku    8303512    86600.0\n",
       "16  Bosnia and Herzegovina          Sarajevo    4590000    51129.0\n",
       "17                Barbados        Bridgetown     285653      431.0\n",
       "18              Bangladesh             Dhaka  156118464   144000.0\n",
       "19                 Belgium          Brussels   10403000    30510.0"
      ]
     },
     "execution_count": 10,
     "metadata": {},
     "output_type": "execute_result"
    }
   ],
   "source": [
    "df.head(20)"
   ]
  },
  {
   "cell_type": "code",
   "execution_count": null,
   "id": "d1fda125",
   "metadata": {},
   "outputs": [],
   "source": []
  }
 ],
 "metadata": {
  "kernelspec": {
   "display_name": "Python 3 (ipykernel)",
   "language": "python",
   "name": "python3"
  },
  "language_info": {
   "codemirror_mode": {
    "name": "ipython",
    "version": 3
   },
   "file_extension": ".py",
   "mimetype": "text/x-python",
   "name": "python",
   "nbconvert_exporter": "python",
   "pygments_lexer": "ipython3",
   "version": "3.9.7"
  },
  "toc": {
   "base_numbering": 1,
   "nav_menu": {},
   "number_sections": true,
   "sideBar": true,
   "skip_h1_title": false,
   "title_cell": "Table of Contents",
   "title_sidebar": "Contents",
   "toc_cell": false,
   "toc_position": {},
   "toc_section_display": true,
   "toc_window_display": false
  }
 },
 "nbformat": 4,
 "nbformat_minor": 5
}
