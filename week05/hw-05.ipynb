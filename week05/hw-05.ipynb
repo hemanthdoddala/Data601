{
 "cells": [
  {
   "cell_type": "markdown",
   "id": "b47b349d",
   "metadata": {},
   "source": [
    "# Homework 5\n"
   ]
  },
  {
   "cell_type": "markdown",
   "id": "e4d0db76",
   "metadata": {
    "id": "rKpfefRA15u2"
   },
   "source": [
    "Apply the EDA techniques we learnt today to `flights` dataset and write a short report."
   ]
  },
  {
   "cell_type": "code",
   "execution_count": 1,
   "id": "506aa798",
   "metadata": {},
   "outputs": [],
   "source": [
    "import pandas as pd\n",
    "import matplotlib.pyplot as plt\n",
    "import seaborn as sns\n",
    "url = 'https://raw.githubusercontent.com/msaricaumbc/DS_data/master/nyc_flights.csv'\n",
    "flights = pd.read_csv(url)"
   ]
  },
  {
   "cell_type": "markdown",
   "id": "337742bb",
   "metadata": {},
   "source": [
    "<h3>Understanding and Cleaning Data</h3>"
   ]
  },
  {
   "cell_type": "code",
   "execution_count": 2,
   "id": "ba276b3d",
   "metadata": {},
   "outputs": [
    {
     "name": "stdout",
     "output_type": "stream",
     "text": [
      "<class 'pandas.core.frame.DataFrame'>\n",
      "RangeIndex: 336776 entries, 0 to 336775\n",
      "Data columns (total 19 columns):\n",
      " #   Column          Non-Null Count   Dtype  \n",
      "---  ------          --------------   -----  \n",
      " 0   year            336776 non-null  int64  \n",
      " 1   month           336776 non-null  int64  \n",
      " 2   day             336776 non-null  int64  \n",
      " 3   dep_time        328521 non-null  float64\n",
      " 4   sched_dep_time  336776 non-null  int64  \n",
      " 5   dep_delay       328521 non-null  float64\n",
      " 6   arr_time        328063 non-null  float64\n",
      " 7   sched_arr_time  336776 non-null  int64  \n",
      " 8   arr_delay       327346 non-null  float64\n",
      " 9   carrier         336776 non-null  object \n",
      " 10  flight          336776 non-null  int64  \n",
      " 11  tailnum         334264 non-null  object \n",
      " 12  origin          336776 non-null  object \n",
      " 13  dest            336776 non-null  object \n",
      " 14  air_time        327346 non-null  float64\n",
      " 15  distance        336776 non-null  int64  \n",
      " 16  hour            336776 non-null  int64  \n",
      " 17  minute          336776 non-null  int64  \n",
      " 18  time_hour       336776 non-null  object \n",
      "dtypes: float64(5), int64(9), object(5)\n",
      "memory usage: 48.8+ MB\n"
     ]
    }
   ],
   "source": [
    "flights.info()"
   ]
  },
  {
   "cell_type": "markdown",
   "id": "6d8e252a",
   "metadata": {},
   "source": [
    "<h4>Initial Analysis</h4>\n",
    "<li>We have data in all the columns</li>\n",
    "<li>In total we have 336776 rows and 19 columns</li>\n",
    "<li>We have 5 columns with float values, 9 columns with int data, 5 columns wiith object type data</li>"
   ]
  },
  {
   "cell_type": "code",
   "execution_count": 3,
   "id": "638408d3",
   "metadata": {},
   "outputs": [
    {
     "data": {
      "text/html": [
       "<div>\n",
       "<style scoped>\n",
       "    .dataframe tbody tr th:only-of-type {\n",
       "        vertical-align: middle;\n",
       "    }\n",
       "\n",
       "    .dataframe tbody tr th {\n",
       "        vertical-align: top;\n",
       "    }\n",
       "\n",
       "    .dataframe thead th {\n",
       "        text-align: right;\n",
       "    }\n",
       "</style>\n",
       "<table border=\"1\" class=\"dataframe\">\n",
       "  <thead>\n",
       "    <tr style=\"text-align: right;\">\n",
       "      <th></th>\n",
       "      <th>year</th>\n",
       "      <th>month</th>\n",
       "      <th>day</th>\n",
       "      <th>dep_time</th>\n",
       "      <th>sched_dep_time</th>\n",
       "      <th>dep_delay</th>\n",
       "      <th>arr_time</th>\n",
       "      <th>sched_arr_time</th>\n",
       "      <th>arr_delay</th>\n",
       "      <th>carrier</th>\n",
       "      <th>flight</th>\n",
       "      <th>tailnum</th>\n",
       "      <th>origin</th>\n",
       "      <th>dest</th>\n",
       "      <th>air_time</th>\n",
       "      <th>distance</th>\n",
       "      <th>hour</th>\n",
       "      <th>minute</th>\n",
       "      <th>time_hour</th>\n",
       "    </tr>\n",
       "  </thead>\n",
       "  <tbody>\n",
       "    <tr>\n",
       "      <th>0</th>\n",
       "      <td>2013</td>\n",
       "      <td>1</td>\n",
       "      <td>1</td>\n",
       "      <td>517.0</td>\n",
       "      <td>515</td>\n",
       "      <td>2.0</td>\n",
       "      <td>830.0</td>\n",
       "      <td>819</td>\n",
       "      <td>11.0</td>\n",
       "      <td>UA</td>\n",
       "      <td>1545</td>\n",
       "      <td>N14228</td>\n",
       "      <td>EWR</td>\n",
       "      <td>IAH</td>\n",
       "      <td>227.0</td>\n",
       "      <td>1400</td>\n",
       "      <td>5</td>\n",
       "      <td>15</td>\n",
       "      <td>2013-01-01T10:00:00Z</td>\n",
       "    </tr>\n",
       "    <tr>\n",
       "      <th>1</th>\n",
       "      <td>2013</td>\n",
       "      <td>1</td>\n",
       "      <td>1</td>\n",
       "      <td>533.0</td>\n",
       "      <td>529</td>\n",
       "      <td>4.0</td>\n",
       "      <td>850.0</td>\n",
       "      <td>830</td>\n",
       "      <td>20.0</td>\n",
       "      <td>UA</td>\n",
       "      <td>1714</td>\n",
       "      <td>N24211</td>\n",
       "      <td>LGA</td>\n",
       "      <td>IAH</td>\n",
       "      <td>227.0</td>\n",
       "      <td>1416</td>\n",
       "      <td>5</td>\n",
       "      <td>29</td>\n",
       "      <td>2013-01-01T10:00:00Z</td>\n",
       "    </tr>\n",
       "    <tr>\n",
       "      <th>2</th>\n",
       "      <td>2013</td>\n",
       "      <td>1</td>\n",
       "      <td>1</td>\n",
       "      <td>542.0</td>\n",
       "      <td>540</td>\n",
       "      <td>2.0</td>\n",
       "      <td>923.0</td>\n",
       "      <td>850</td>\n",
       "      <td>33.0</td>\n",
       "      <td>AA</td>\n",
       "      <td>1141</td>\n",
       "      <td>N619AA</td>\n",
       "      <td>JFK</td>\n",
       "      <td>MIA</td>\n",
       "      <td>160.0</td>\n",
       "      <td>1089</td>\n",
       "      <td>5</td>\n",
       "      <td>40</td>\n",
       "      <td>2013-01-01T10:00:00Z</td>\n",
       "    </tr>\n",
       "    <tr>\n",
       "      <th>3</th>\n",
       "      <td>2013</td>\n",
       "      <td>1</td>\n",
       "      <td>1</td>\n",
       "      <td>544.0</td>\n",
       "      <td>545</td>\n",
       "      <td>-1.0</td>\n",
       "      <td>1004.0</td>\n",
       "      <td>1022</td>\n",
       "      <td>-18.0</td>\n",
       "      <td>B6</td>\n",
       "      <td>725</td>\n",
       "      <td>N804JB</td>\n",
       "      <td>JFK</td>\n",
       "      <td>BQN</td>\n",
       "      <td>183.0</td>\n",
       "      <td>1576</td>\n",
       "      <td>5</td>\n",
       "      <td>45</td>\n",
       "      <td>2013-01-01T10:00:00Z</td>\n",
       "    </tr>\n",
       "    <tr>\n",
       "      <th>4</th>\n",
       "      <td>2013</td>\n",
       "      <td>1</td>\n",
       "      <td>1</td>\n",
       "      <td>554.0</td>\n",
       "      <td>600</td>\n",
       "      <td>-6.0</td>\n",
       "      <td>812.0</td>\n",
       "      <td>837</td>\n",
       "      <td>-25.0</td>\n",
       "      <td>DL</td>\n",
       "      <td>461</td>\n",
       "      <td>N668DN</td>\n",
       "      <td>LGA</td>\n",
       "      <td>ATL</td>\n",
       "      <td>116.0</td>\n",
       "      <td>762</td>\n",
       "      <td>6</td>\n",
       "      <td>0</td>\n",
       "      <td>2013-01-01T11:00:00Z</td>\n",
       "    </tr>\n",
       "  </tbody>\n",
       "</table>\n",
       "</div>"
      ],
      "text/plain": [
       "   year  month  day  dep_time  sched_dep_time  dep_delay  arr_time  \\\n",
       "0  2013      1    1     517.0             515        2.0     830.0   \n",
       "1  2013      1    1     533.0             529        4.0     850.0   \n",
       "2  2013      1    1     542.0             540        2.0     923.0   \n",
       "3  2013      1    1     544.0             545       -1.0    1004.0   \n",
       "4  2013      1    1     554.0             600       -6.0     812.0   \n",
       "\n",
       "   sched_arr_time  arr_delay carrier  flight tailnum origin dest  air_time  \\\n",
       "0             819       11.0      UA    1545  N14228    EWR  IAH     227.0   \n",
       "1             830       20.0      UA    1714  N24211    LGA  IAH     227.0   \n",
       "2             850       33.0      AA    1141  N619AA    JFK  MIA     160.0   \n",
       "3            1022      -18.0      B6     725  N804JB    JFK  BQN     183.0   \n",
       "4             837      -25.0      DL     461  N668DN    LGA  ATL     116.0   \n",
       "\n",
       "   distance  hour  minute             time_hour  \n",
       "0      1400     5      15  2013-01-01T10:00:00Z  \n",
       "1      1416     5      29  2013-01-01T10:00:00Z  \n",
       "2      1089     5      40  2013-01-01T10:00:00Z  \n",
       "3      1576     5      45  2013-01-01T10:00:00Z  \n",
       "4       762     6       0  2013-01-01T11:00:00Z  "
      ]
     },
     "execution_count": 3,
     "metadata": {},
     "output_type": "execute_result"
    }
   ],
   "source": [
    "# Printing head to see shape of the data. If the data shape is consistent with dimensions from info method.\n",
    "flights.head()"
   ]
  },
  {
   "cell_type": "code",
   "execution_count": 4,
   "id": "23a47279",
   "metadata": {},
   "outputs": [
    {
     "data": {
      "text/plain": [
       "(336776, 19)"
      ]
     },
     "execution_count": 4,
     "metadata": {},
     "output_type": "execute_result"
    }
   ],
   "source": [
    "flights.shape"
   ]
  },
  {
   "cell_type": "markdown",
   "id": "13c1dd98",
   "metadata": {},
   "source": [
    "<h4>Get Datatypes of the each column</h4>"
   ]
  },
  {
   "cell_type": "code",
   "execution_count": 5,
   "id": "649a46a0",
   "metadata": {},
   "outputs": [
    {
     "data": {
      "text/plain": [
       "year                int64\n",
       "month               int64\n",
       "day                 int64\n",
       "dep_time          float64\n",
       "sched_dep_time      int64\n",
       "dep_delay         float64\n",
       "arr_time          float64\n",
       "sched_arr_time      int64\n",
       "arr_delay         float64\n",
       "carrier            object\n",
       "flight              int64\n",
       "tailnum            object\n",
       "origin             object\n",
       "dest               object\n",
       "air_time          float64\n",
       "distance            int64\n",
       "hour                int64\n",
       "minute              int64\n",
       "time_hour          object\n",
       "dtype: object"
      ]
     },
     "execution_count": 5,
     "metadata": {},
     "output_type": "execute_result"
    }
   ],
   "source": [
    "flights.dtypes"
   ]
  },
  {
   "cell_type": "code",
   "execution_count": 6,
   "id": "b71f93d5",
   "metadata": {},
   "outputs": [
    {
     "data": {
      "text/plain": [
       "dep_time     8255\n",
       "dep_delay    8255\n",
       "arr_time     8713\n",
       "arr_delay    9430\n",
       "tailnum      2512\n",
       "air_time     9430\n",
       "dtype: int64"
      ]
     },
     "execution_count": 6,
     "metadata": {},
     "output_type": "execute_result"
    }
   ],
   "source": [
    "flights.isna().sum()[flights.isna().sum()>0]"
   ]
  },
  {
   "cell_type": "code",
   "execution_count": 7,
   "id": "9ded9d22",
   "metadata": {},
   "outputs": [
    {
     "data": {
      "text/html": [
       "<div>\n",
       "<style scoped>\n",
       "    .dataframe tbody tr th:only-of-type {\n",
       "        vertical-align: middle;\n",
       "    }\n",
       "\n",
       "    .dataframe tbody tr th {\n",
       "        vertical-align: top;\n",
       "    }\n",
       "\n",
       "    .dataframe thead th {\n",
       "        text-align: right;\n",
       "    }\n",
       "</style>\n",
       "<table border=\"1\" class=\"dataframe\">\n",
       "  <thead>\n",
       "    <tr style=\"text-align: right;\">\n",
       "      <th></th>\n",
       "      <th>year</th>\n",
       "      <th>month</th>\n",
       "      <th>day</th>\n",
       "      <th>dep_time</th>\n",
       "      <th>sched_dep_time</th>\n",
       "      <th>dep_delay</th>\n",
       "      <th>arr_time</th>\n",
       "      <th>sched_arr_time</th>\n",
       "      <th>arr_delay</th>\n",
       "      <th>carrier</th>\n",
       "      <th>flight</th>\n",
       "      <th>tailnum</th>\n",
       "      <th>origin</th>\n",
       "      <th>dest</th>\n",
       "      <th>air_time</th>\n",
       "      <th>distance</th>\n",
       "      <th>hour</th>\n",
       "      <th>minute</th>\n",
       "      <th>time_hour</th>\n",
       "    </tr>\n",
       "  </thead>\n",
       "  <tbody>\n",
       "    <tr>\n",
       "      <th>count</th>\n",
       "      <td>336776.0</td>\n",
       "      <td>336776.000000</td>\n",
       "      <td>336776.000000</td>\n",
       "      <td>328521.000000</td>\n",
       "      <td>336776.000000</td>\n",
       "      <td>328521.000000</td>\n",
       "      <td>328063.000000</td>\n",
       "      <td>336776.000000</td>\n",
       "      <td>327346.000000</td>\n",
       "      <td>336776</td>\n",
       "      <td>336776.000000</td>\n",
       "      <td>334264</td>\n",
       "      <td>336776</td>\n",
       "      <td>336776</td>\n",
       "      <td>327346.000000</td>\n",
       "      <td>336776.000000</td>\n",
       "      <td>336776.000000</td>\n",
       "      <td>336776.000000</td>\n",
       "      <td>336776</td>\n",
       "    </tr>\n",
       "    <tr>\n",
       "      <th>unique</th>\n",
       "      <td>NaN</td>\n",
       "      <td>NaN</td>\n",
       "      <td>NaN</td>\n",
       "      <td>NaN</td>\n",
       "      <td>NaN</td>\n",
       "      <td>NaN</td>\n",
       "      <td>NaN</td>\n",
       "      <td>NaN</td>\n",
       "      <td>NaN</td>\n",
       "      <td>16</td>\n",
       "      <td>NaN</td>\n",
       "      <td>4043</td>\n",
       "      <td>3</td>\n",
       "      <td>105</td>\n",
       "      <td>NaN</td>\n",
       "      <td>NaN</td>\n",
       "      <td>NaN</td>\n",
       "      <td>NaN</td>\n",
       "      <td>6936</td>\n",
       "    </tr>\n",
       "    <tr>\n",
       "      <th>top</th>\n",
       "      <td>NaN</td>\n",
       "      <td>NaN</td>\n",
       "      <td>NaN</td>\n",
       "      <td>NaN</td>\n",
       "      <td>NaN</td>\n",
       "      <td>NaN</td>\n",
       "      <td>NaN</td>\n",
       "      <td>NaN</td>\n",
       "      <td>NaN</td>\n",
       "      <td>UA</td>\n",
       "      <td>NaN</td>\n",
       "      <td>N725MQ</td>\n",
       "      <td>EWR</td>\n",
       "      <td>ORD</td>\n",
       "      <td>NaN</td>\n",
       "      <td>NaN</td>\n",
       "      <td>NaN</td>\n",
       "      <td>NaN</td>\n",
       "      <td>2013-09-13T12:00:00Z</td>\n",
       "    </tr>\n",
       "    <tr>\n",
       "      <th>freq</th>\n",
       "      <td>NaN</td>\n",
       "      <td>NaN</td>\n",
       "      <td>NaN</td>\n",
       "      <td>NaN</td>\n",
       "      <td>NaN</td>\n",
       "      <td>NaN</td>\n",
       "      <td>NaN</td>\n",
       "      <td>NaN</td>\n",
       "      <td>NaN</td>\n",
       "      <td>58665</td>\n",
       "      <td>NaN</td>\n",
       "      <td>575</td>\n",
       "      <td>120835</td>\n",
       "      <td>17283</td>\n",
       "      <td>NaN</td>\n",
       "      <td>NaN</td>\n",
       "      <td>NaN</td>\n",
       "      <td>NaN</td>\n",
       "      <td>94</td>\n",
       "    </tr>\n",
       "    <tr>\n",
       "      <th>mean</th>\n",
       "      <td>2013.0</td>\n",
       "      <td>6.548510</td>\n",
       "      <td>15.710787</td>\n",
       "      <td>1349.109947</td>\n",
       "      <td>1344.254840</td>\n",
       "      <td>12.639070</td>\n",
       "      <td>1502.054999</td>\n",
       "      <td>1536.380220</td>\n",
       "      <td>6.895377</td>\n",
       "      <td>NaN</td>\n",
       "      <td>1971.923620</td>\n",
       "      <td>NaN</td>\n",
       "      <td>NaN</td>\n",
       "      <td>NaN</td>\n",
       "      <td>150.686460</td>\n",
       "      <td>1039.912604</td>\n",
       "      <td>13.180247</td>\n",
       "      <td>26.230100</td>\n",
       "      <td>NaN</td>\n",
       "    </tr>\n",
       "    <tr>\n",
       "      <th>std</th>\n",
       "      <td>0.0</td>\n",
       "      <td>3.414457</td>\n",
       "      <td>8.768607</td>\n",
       "      <td>488.281791</td>\n",
       "      <td>467.335756</td>\n",
       "      <td>40.210061</td>\n",
       "      <td>533.264132</td>\n",
       "      <td>497.457142</td>\n",
       "      <td>44.633292</td>\n",
       "      <td>NaN</td>\n",
       "      <td>1632.471938</td>\n",
       "      <td>NaN</td>\n",
       "      <td>NaN</td>\n",
       "      <td>NaN</td>\n",
       "      <td>93.688305</td>\n",
       "      <td>733.233033</td>\n",
       "      <td>4.661316</td>\n",
       "      <td>19.300846</td>\n",
       "      <td>NaN</td>\n",
       "    </tr>\n",
       "    <tr>\n",
       "      <th>min</th>\n",
       "      <td>2013.0</td>\n",
       "      <td>1.000000</td>\n",
       "      <td>1.000000</td>\n",
       "      <td>1.000000</td>\n",
       "      <td>106.000000</td>\n",
       "      <td>-43.000000</td>\n",
       "      <td>1.000000</td>\n",
       "      <td>1.000000</td>\n",
       "      <td>-86.000000</td>\n",
       "      <td>NaN</td>\n",
       "      <td>1.000000</td>\n",
       "      <td>NaN</td>\n",
       "      <td>NaN</td>\n",
       "      <td>NaN</td>\n",
       "      <td>20.000000</td>\n",
       "      <td>17.000000</td>\n",
       "      <td>1.000000</td>\n",
       "      <td>0.000000</td>\n",
       "      <td>NaN</td>\n",
       "    </tr>\n",
       "    <tr>\n",
       "      <th>25%</th>\n",
       "      <td>2013.0</td>\n",
       "      <td>4.000000</td>\n",
       "      <td>8.000000</td>\n",
       "      <td>907.000000</td>\n",
       "      <td>906.000000</td>\n",
       "      <td>-5.000000</td>\n",
       "      <td>1104.000000</td>\n",
       "      <td>1124.000000</td>\n",
       "      <td>-17.000000</td>\n",
       "      <td>NaN</td>\n",
       "      <td>553.000000</td>\n",
       "      <td>NaN</td>\n",
       "      <td>NaN</td>\n",
       "      <td>NaN</td>\n",
       "      <td>82.000000</td>\n",
       "      <td>502.000000</td>\n",
       "      <td>9.000000</td>\n",
       "      <td>8.000000</td>\n",
       "      <td>NaN</td>\n",
       "    </tr>\n",
       "    <tr>\n",
       "      <th>50%</th>\n",
       "      <td>2013.0</td>\n",
       "      <td>7.000000</td>\n",
       "      <td>16.000000</td>\n",
       "      <td>1401.000000</td>\n",
       "      <td>1359.000000</td>\n",
       "      <td>-2.000000</td>\n",
       "      <td>1535.000000</td>\n",
       "      <td>1556.000000</td>\n",
       "      <td>-5.000000</td>\n",
       "      <td>NaN</td>\n",
       "      <td>1496.000000</td>\n",
       "      <td>NaN</td>\n",
       "      <td>NaN</td>\n",
       "      <td>NaN</td>\n",
       "      <td>129.000000</td>\n",
       "      <td>872.000000</td>\n",
       "      <td>13.000000</td>\n",
       "      <td>29.000000</td>\n",
       "      <td>NaN</td>\n",
       "    </tr>\n",
       "    <tr>\n",
       "      <th>75%</th>\n",
       "      <td>2013.0</td>\n",
       "      <td>10.000000</td>\n",
       "      <td>23.000000</td>\n",
       "      <td>1744.000000</td>\n",
       "      <td>1729.000000</td>\n",
       "      <td>11.000000</td>\n",
       "      <td>1940.000000</td>\n",
       "      <td>1945.000000</td>\n",
       "      <td>14.000000</td>\n",
       "      <td>NaN</td>\n",
       "      <td>3465.000000</td>\n",
       "      <td>NaN</td>\n",
       "      <td>NaN</td>\n",
       "      <td>NaN</td>\n",
       "      <td>192.000000</td>\n",
       "      <td>1389.000000</td>\n",
       "      <td>17.000000</td>\n",
       "      <td>44.000000</td>\n",
       "      <td>NaN</td>\n",
       "    </tr>\n",
       "    <tr>\n",
       "      <th>max</th>\n",
       "      <td>2013.0</td>\n",
       "      <td>12.000000</td>\n",
       "      <td>31.000000</td>\n",
       "      <td>2400.000000</td>\n",
       "      <td>2359.000000</td>\n",
       "      <td>1301.000000</td>\n",
       "      <td>2400.000000</td>\n",
       "      <td>2359.000000</td>\n",
       "      <td>1272.000000</td>\n",
       "      <td>NaN</td>\n",
       "      <td>8500.000000</td>\n",
       "      <td>NaN</td>\n",
       "      <td>NaN</td>\n",
       "      <td>NaN</td>\n",
       "      <td>695.000000</td>\n",
       "      <td>4983.000000</td>\n",
       "      <td>23.000000</td>\n",
       "      <td>59.000000</td>\n",
       "      <td>NaN</td>\n",
       "    </tr>\n",
       "  </tbody>\n",
       "</table>\n",
       "</div>"
      ],
      "text/plain": [
       "            year          month            day       dep_time  sched_dep_time  \\\n",
       "count   336776.0  336776.000000  336776.000000  328521.000000   336776.000000   \n",
       "unique       NaN            NaN            NaN            NaN             NaN   \n",
       "top          NaN            NaN            NaN            NaN             NaN   \n",
       "freq         NaN            NaN            NaN            NaN             NaN   \n",
       "mean      2013.0       6.548510      15.710787    1349.109947     1344.254840   \n",
       "std          0.0       3.414457       8.768607     488.281791      467.335756   \n",
       "min       2013.0       1.000000       1.000000       1.000000      106.000000   \n",
       "25%       2013.0       4.000000       8.000000     907.000000      906.000000   \n",
       "50%       2013.0       7.000000      16.000000    1401.000000     1359.000000   \n",
       "75%       2013.0      10.000000      23.000000    1744.000000     1729.000000   \n",
       "max       2013.0      12.000000      31.000000    2400.000000     2359.000000   \n",
       "\n",
       "            dep_delay       arr_time  sched_arr_time      arr_delay carrier  \\\n",
       "count   328521.000000  328063.000000   336776.000000  327346.000000  336776   \n",
       "unique            NaN            NaN             NaN            NaN      16   \n",
       "top               NaN            NaN             NaN            NaN      UA   \n",
       "freq              NaN            NaN             NaN            NaN   58665   \n",
       "mean        12.639070    1502.054999     1536.380220       6.895377     NaN   \n",
       "std         40.210061     533.264132      497.457142      44.633292     NaN   \n",
       "min        -43.000000       1.000000        1.000000     -86.000000     NaN   \n",
       "25%         -5.000000    1104.000000     1124.000000     -17.000000     NaN   \n",
       "50%         -2.000000    1535.000000     1556.000000      -5.000000     NaN   \n",
       "75%         11.000000    1940.000000     1945.000000      14.000000     NaN   \n",
       "max       1301.000000    2400.000000     2359.000000    1272.000000     NaN   \n",
       "\n",
       "               flight tailnum  origin    dest       air_time       distance  \\\n",
       "count   336776.000000  334264  336776  336776  327346.000000  336776.000000   \n",
       "unique            NaN    4043       3     105            NaN            NaN   \n",
       "top               NaN  N725MQ     EWR     ORD            NaN            NaN   \n",
       "freq              NaN     575  120835   17283            NaN            NaN   \n",
       "mean      1971.923620     NaN     NaN     NaN     150.686460    1039.912604   \n",
       "std       1632.471938     NaN     NaN     NaN      93.688305     733.233033   \n",
       "min          1.000000     NaN     NaN     NaN      20.000000      17.000000   \n",
       "25%        553.000000     NaN     NaN     NaN      82.000000     502.000000   \n",
       "50%       1496.000000     NaN     NaN     NaN     129.000000     872.000000   \n",
       "75%       3465.000000     NaN     NaN     NaN     192.000000    1389.000000   \n",
       "max       8500.000000     NaN     NaN     NaN     695.000000    4983.000000   \n",
       "\n",
       "                 hour         minute             time_hour  \n",
       "count   336776.000000  336776.000000                336776  \n",
       "unique            NaN            NaN                  6936  \n",
       "top               NaN            NaN  2013-09-13T12:00:00Z  \n",
       "freq              NaN            NaN                    94  \n",
       "mean        13.180247      26.230100                   NaN  \n",
       "std          4.661316      19.300846                   NaN  \n",
       "min          1.000000       0.000000                   NaN  \n",
       "25%          9.000000       8.000000                   NaN  \n",
       "50%         13.000000      29.000000                   NaN  \n",
       "75%         17.000000      44.000000                   NaN  \n",
       "max         23.000000      59.000000                   NaN  "
      ]
     },
     "execution_count": 7,
     "metadata": {},
     "output_type": "execute_result"
    }
   ],
   "source": [
    "flights.describe(include='all')"
   ]
  },
  {
   "cell_type": "code",
   "execution_count": 8,
   "id": "4e358342",
   "metadata": {},
   "outputs": [],
   "source": [
    "# Dropping unused columns in visualizations\n",
    "flights.drop(axis=1, columns=['dep_time','sched_arr_time', 'sched_dep_time'], inplace=True)\n",
    "# Dropping rows which doesn't have a tailnum\n",
    "flights = flights[flights['tailnum'].notna()]"
   ]
  },
  {
   "cell_type": "code",
   "execution_count": 9,
   "id": "d01401b3",
   "metadata": {},
   "outputs": [
    {
     "data": {
      "text/plain": [
       "dep_delay    5743\n",
       "arr_time     6201\n",
       "arr_delay    6918\n",
       "air_time     6918\n",
       "dtype: int64"
      ]
     },
     "execution_count": 9,
     "metadata": {},
     "output_type": "execute_result"
    }
   ],
   "source": [
    "flights.isna().sum()[flights.isna().sum()>0]"
   ]
  },
  {
   "cell_type": "code",
   "execution_count": 10,
   "id": "f7794821",
   "metadata": {},
   "outputs": [
    {
     "data": {
      "text/html": [
       "<div>\n",
       "<style scoped>\n",
       "    .dataframe tbody tr th:only-of-type {\n",
       "        vertical-align: middle;\n",
       "    }\n",
       "\n",
       "    .dataframe tbody tr th {\n",
       "        vertical-align: top;\n",
       "    }\n",
       "\n",
       "    .dataframe thead th {\n",
       "        text-align: right;\n",
       "    }\n",
       "</style>\n",
       "<table border=\"1\" class=\"dataframe\">\n",
       "  <thead>\n",
       "    <tr style=\"text-align: right;\">\n",
       "      <th></th>\n",
       "      <th>year</th>\n",
       "      <th>month</th>\n",
       "      <th>day</th>\n",
       "      <th>dep_delay</th>\n",
       "      <th>arr_time</th>\n",
       "      <th>arr_delay</th>\n",
       "      <th>carrier</th>\n",
       "      <th>flight</th>\n",
       "      <th>tailnum</th>\n",
       "      <th>origin</th>\n",
       "      <th>dest</th>\n",
       "      <th>air_time</th>\n",
       "      <th>distance</th>\n",
       "      <th>hour</th>\n",
       "      <th>minute</th>\n",
       "      <th>time_hour</th>\n",
       "    </tr>\n",
       "  </thead>\n",
       "  <tbody>\n",
       "    <tr>\n",
       "      <th>0</th>\n",
       "      <td>2013</td>\n",
       "      <td>1</td>\n",
       "      <td>1</td>\n",
       "      <td>2.0</td>\n",
       "      <td>830.0</td>\n",
       "      <td>11.0</td>\n",
       "      <td>UA</td>\n",
       "      <td>1545</td>\n",
       "      <td>N14228</td>\n",
       "      <td>EWR</td>\n",
       "      <td>IAH</td>\n",
       "      <td>227.0</td>\n",
       "      <td>1400</td>\n",
       "      <td>5</td>\n",
       "      <td>15</td>\n",
       "      <td>2013-01-01T10:00:00Z</td>\n",
       "    </tr>\n",
       "    <tr>\n",
       "      <th>1</th>\n",
       "      <td>2013</td>\n",
       "      <td>1</td>\n",
       "      <td>1</td>\n",
       "      <td>4.0</td>\n",
       "      <td>850.0</td>\n",
       "      <td>20.0</td>\n",
       "      <td>UA</td>\n",
       "      <td>1714</td>\n",
       "      <td>N24211</td>\n",
       "      <td>LGA</td>\n",
       "      <td>IAH</td>\n",
       "      <td>227.0</td>\n",
       "      <td>1416</td>\n",
       "      <td>5</td>\n",
       "      <td>29</td>\n",
       "      <td>2013-01-01T10:00:00Z</td>\n",
       "    </tr>\n",
       "    <tr>\n",
       "      <th>2</th>\n",
       "      <td>2013</td>\n",
       "      <td>1</td>\n",
       "      <td>1</td>\n",
       "      <td>2.0</td>\n",
       "      <td>923.0</td>\n",
       "      <td>33.0</td>\n",
       "      <td>AA</td>\n",
       "      <td>1141</td>\n",
       "      <td>N619AA</td>\n",
       "      <td>JFK</td>\n",
       "      <td>MIA</td>\n",
       "      <td>160.0</td>\n",
       "      <td>1089</td>\n",
       "      <td>5</td>\n",
       "      <td>40</td>\n",
       "      <td>2013-01-01T10:00:00Z</td>\n",
       "    </tr>\n",
       "    <tr>\n",
       "      <th>3</th>\n",
       "      <td>2013</td>\n",
       "      <td>1</td>\n",
       "      <td>1</td>\n",
       "      <td>-1.0</td>\n",
       "      <td>1004.0</td>\n",
       "      <td>-18.0</td>\n",
       "      <td>B6</td>\n",
       "      <td>725</td>\n",
       "      <td>N804JB</td>\n",
       "      <td>JFK</td>\n",
       "      <td>BQN</td>\n",
       "      <td>183.0</td>\n",
       "      <td>1576</td>\n",
       "      <td>5</td>\n",
       "      <td>45</td>\n",
       "      <td>2013-01-01T10:00:00Z</td>\n",
       "    </tr>\n",
       "    <tr>\n",
       "      <th>4</th>\n",
       "      <td>2013</td>\n",
       "      <td>1</td>\n",
       "      <td>1</td>\n",
       "      <td>-6.0</td>\n",
       "      <td>812.0</td>\n",
       "      <td>-25.0</td>\n",
       "      <td>DL</td>\n",
       "      <td>461</td>\n",
       "      <td>N668DN</td>\n",
       "      <td>LGA</td>\n",
       "      <td>ATL</td>\n",
       "      <td>116.0</td>\n",
       "      <td>762</td>\n",
       "      <td>6</td>\n",
       "      <td>0</td>\n",
       "      <td>2013-01-01T11:00:00Z</td>\n",
       "    </tr>\n",
       "    <tr>\n",
       "      <th>...</th>\n",
       "      <td>...</td>\n",
       "      <td>...</td>\n",
       "      <td>...</td>\n",
       "      <td>...</td>\n",
       "      <td>...</td>\n",
       "      <td>...</td>\n",
       "      <td>...</td>\n",
       "      <td>...</td>\n",
       "      <td>...</td>\n",
       "      <td>...</td>\n",
       "      <td>...</td>\n",
       "      <td>...</td>\n",
       "      <td>...</td>\n",
       "      <td>...</td>\n",
       "      <td>...</td>\n",
       "      <td>...</td>\n",
       "    </tr>\n",
       "    <tr>\n",
       "      <th>336769</th>\n",
       "      <td>2013</td>\n",
       "      <td>9</td>\n",
       "      <td>30</td>\n",
       "      <td>-10.0</td>\n",
       "      <td>325.0</td>\n",
       "      <td>-25.0</td>\n",
       "      <td>B6</td>\n",
       "      <td>745</td>\n",
       "      <td>N516JB</td>\n",
       "      <td>JFK</td>\n",
       "      <td>PSE</td>\n",
       "      <td>196.0</td>\n",
       "      <td>1617</td>\n",
       "      <td>23</td>\n",
       "      <td>59</td>\n",
       "      <td>2013-10-01T03:00:00Z</td>\n",
       "    </tr>\n",
       "    <tr>\n",
       "      <th>336770</th>\n",
       "      <td>2013</td>\n",
       "      <td>9</td>\n",
       "      <td>30</td>\n",
       "      <td>NaN</td>\n",
       "      <td>NaN</td>\n",
       "      <td>NaN</td>\n",
       "      <td>EV</td>\n",
       "      <td>5274</td>\n",
       "      <td>N740EV</td>\n",
       "      <td>LGA</td>\n",
       "      <td>BNA</td>\n",
       "      <td>NaN</td>\n",
       "      <td>764</td>\n",
       "      <td>18</td>\n",
       "      <td>42</td>\n",
       "      <td>2013-09-30T22:00:00Z</td>\n",
       "    </tr>\n",
       "    <tr>\n",
       "      <th>336773</th>\n",
       "      <td>2013</td>\n",
       "      <td>9</td>\n",
       "      <td>30</td>\n",
       "      <td>NaN</td>\n",
       "      <td>NaN</td>\n",
       "      <td>NaN</td>\n",
       "      <td>MQ</td>\n",
       "      <td>3461</td>\n",
       "      <td>N535MQ</td>\n",
       "      <td>LGA</td>\n",
       "      <td>BNA</td>\n",
       "      <td>NaN</td>\n",
       "      <td>764</td>\n",
       "      <td>12</td>\n",
       "      <td>10</td>\n",
       "      <td>2013-09-30T16:00:00Z</td>\n",
       "    </tr>\n",
       "    <tr>\n",
       "      <th>336774</th>\n",
       "      <td>2013</td>\n",
       "      <td>9</td>\n",
       "      <td>30</td>\n",
       "      <td>NaN</td>\n",
       "      <td>NaN</td>\n",
       "      <td>NaN</td>\n",
       "      <td>MQ</td>\n",
       "      <td>3572</td>\n",
       "      <td>N511MQ</td>\n",
       "      <td>LGA</td>\n",
       "      <td>CLE</td>\n",
       "      <td>NaN</td>\n",
       "      <td>419</td>\n",
       "      <td>11</td>\n",
       "      <td>59</td>\n",
       "      <td>2013-09-30T15:00:00Z</td>\n",
       "    </tr>\n",
       "    <tr>\n",
       "      <th>336775</th>\n",
       "      <td>2013</td>\n",
       "      <td>9</td>\n",
       "      <td>30</td>\n",
       "      <td>NaN</td>\n",
       "      <td>NaN</td>\n",
       "      <td>NaN</td>\n",
       "      <td>MQ</td>\n",
       "      <td>3531</td>\n",
       "      <td>N839MQ</td>\n",
       "      <td>LGA</td>\n",
       "      <td>RDU</td>\n",
       "      <td>NaN</td>\n",
       "      <td>431</td>\n",
       "      <td>8</td>\n",
       "      <td>40</td>\n",
       "      <td>2013-09-30T12:00:00Z</td>\n",
       "    </tr>\n",
       "  </tbody>\n",
       "</table>\n",
       "<p>334264 rows × 16 columns</p>\n",
       "</div>"
      ],
      "text/plain": [
       "        year  month  day  dep_delay  arr_time  arr_delay carrier  flight  \\\n",
       "0       2013      1    1        2.0     830.0       11.0      UA    1545   \n",
       "1       2013      1    1        4.0     850.0       20.0      UA    1714   \n",
       "2       2013      1    1        2.0     923.0       33.0      AA    1141   \n",
       "3       2013      1    1       -1.0    1004.0      -18.0      B6     725   \n",
       "4       2013      1    1       -6.0     812.0      -25.0      DL     461   \n",
       "...      ...    ...  ...        ...       ...        ...     ...     ...   \n",
       "336769  2013      9   30      -10.0     325.0      -25.0      B6     745   \n",
       "336770  2013      9   30        NaN       NaN        NaN      EV    5274   \n",
       "336773  2013      9   30        NaN       NaN        NaN      MQ    3461   \n",
       "336774  2013      9   30        NaN       NaN        NaN      MQ    3572   \n",
       "336775  2013      9   30        NaN       NaN        NaN      MQ    3531   \n",
       "\n",
       "       tailnum origin dest  air_time  distance  hour  minute  \\\n",
       "0       N14228    EWR  IAH     227.0      1400     5      15   \n",
       "1       N24211    LGA  IAH     227.0      1416     5      29   \n",
       "2       N619AA    JFK  MIA     160.0      1089     5      40   \n",
       "3       N804JB    JFK  BQN     183.0      1576     5      45   \n",
       "4       N668DN    LGA  ATL     116.0       762     6       0   \n",
       "...        ...    ...  ...       ...       ...   ...     ...   \n",
       "336769  N516JB    JFK  PSE     196.0      1617    23      59   \n",
       "336770  N740EV    LGA  BNA       NaN       764    18      42   \n",
       "336773  N535MQ    LGA  BNA       NaN       764    12      10   \n",
       "336774  N511MQ    LGA  CLE       NaN       419    11      59   \n",
       "336775  N839MQ    LGA  RDU       NaN       431     8      40   \n",
       "\n",
       "                   time_hour  \n",
       "0       2013-01-01T10:00:00Z  \n",
       "1       2013-01-01T10:00:00Z  \n",
       "2       2013-01-01T10:00:00Z  \n",
       "3       2013-01-01T10:00:00Z  \n",
       "4       2013-01-01T11:00:00Z  \n",
       "...                      ...  \n",
       "336769  2013-10-01T03:00:00Z  \n",
       "336770  2013-09-30T22:00:00Z  \n",
       "336773  2013-09-30T16:00:00Z  \n",
       "336774  2013-09-30T15:00:00Z  \n",
       "336775  2013-09-30T12:00:00Z  \n",
       "\n",
       "[334264 rows x 16 columns]"
      ]
     },
     "execution_count": 10,
     "metadata": {},
     "output_type": "execute_result"
    }
   ],
   "source": [
    "flights"
   ]
  },
  {
   "cell_type": "code",
   "execution_count": 11,
   "id": "76128cba",
   "metadata": {},
   "outputs": [
    {
     "data": {
      "text/plain": [
       "dep_delay    5743\n",
       "arr_time     6201\n",
       "arr_delay    6918\n",
       "air_time     6918\n",
       "dtype: int64"
      ]
     },
     "execution_count": 11,
     "metadata": {},
     "output_type": "execute_result"
    }
   ],
   "source": [
    "flights.isna().sum()[flights.isna().sum()>0]"
   ]
  },
  {
   "cell_type": "code",
   "execution_count": 12,
   "id": "a6d86665",
   "metadata": {},
   "outputs": [
    {
     "name": "stderr",
     "output_type": "stream",
     "text": [
      "C:\\Users\\dhssr\\AppData\\Local\\Temp/ipykernel_12500/2864194282.py:2: SettingWithCopyWarning: \n",
      "A value is trying to be set on a copy of a slice from a DataFrame.\n",
      "Try using .loc[row_indexer,col_indexer] = value instead\n",
      "\n",
      "See the caveats in the documentation: https://pandas.pydata.org/pandas-docs/stable/user_guide/indexing.html#returning-a-view-versus-a-copy\n",
      "  flights['time_hour']=pd.to_datetime(flights['time_hour'], infer_datetime_format=True)\n",
      "C:\\Users\\dhssr\\AppData\\Local\\Temp/ipykernel_12500/2864194282.py:3: SettingWithCopyWarning: \n",
      "A value is trying to be set on a copy of a slice from a DataFrame.\n",
      "Try using .loc[row_indexer,col_indexer] = value instead\n",
      "\n",
      "See the caveats in the documentation: https://pandas.pydata.org/pandas-docs/stable/user_guide/indexing.html#returning-a-view-versus-a-copy\n",
      "  flights['dayofweek']=pd.to_datetime(flights['time_hour'], infer_datetime_format=True).dt.dayofweek\n",
      "C:\\Users\\dhssr\\AppData\\Local\\Temp/ipykernel_12500/2864194282.py:4: SettingWithCopyWarning: \n",
      "A value is trying to be set on a copy of a slice from a DataFrame.\n",
      "Try using .loc[row_indexer,col_indexer] = value instead\n",
      "\n",
      "See the caveats in the documentation: https://pandas.pydata.org/pandas-docs/stable/user_guide/indexing.html#returning-a-view-versus-a-copy\n",
      "  flights['speed_per_min'] = flights.distance / flights.air_time\n"
     ]
    }
   ],
   "source": [
    "flights = flights[flights['air_time'].notna()]\n",
    "flights['time_hour']=pd.to_datetime(flights['time_hour'], infer_datetime_format=True)\n",
    "flights['dayofweek']=pd.to_datetime(flights['time_hour'], infer_datetime_format=True).dt.dayofweek\n",
    "flights['speed_per_min'] = flights.distance / flights.air_time"
   ]
  },
  {
   "cell_type": "code",
   "execution_count": 13,
   "id": "d451ed82",
   "metadata": {},
   "outputs": [
    {
     "data": {
      "text/html": [
       "<div>\n",
       "<style scoped>\n",
       "    .dataframe tbody tr th:only-of-type {\n",
       "        vertical-align: middle;\n",
       "    }\n",
       "\n",
       "    .dataframe tbody tr th {\n",
       "        vertical-align: top;\n",
       "    }\n",
       "\n",
       "    .dataframe thead th {\n",
       "        text-align: right;\n",
       "    }\n",
       "</style>\n",
       "<table border=\"1\" class=\"dataframe\">\n",
       "  <thead>\n",
       "    <tr style=\"text-align: right;\">\n",
       "      <th></th>\n",
       "      <th>year</th>\n",
       "      <th>month</th>\n",
       "      <th>day</th>\n",
       "      <th>dep_delay</th>\n",
       "      <th>arr_time</th>\n",
       "      <th>arr_delay</th>\n",
       "      <th>carrier</th>\n",
       "      <th>flight</th>\n",
       "      <th>tailnum</th>\n",
       "      <th>origin</th>\n",
       "      <th>dest</th>\n",
       "      <th>air_time</th>\n",
       "      <th>distance</th>\n",
       "      <th>hour</th>\n",
       "      <th>minute</th>\n",
       "      <th>time_hour</th>\n",
       "      <th>dayofweek</th>\n",
       "      <th>speed_per_min</th>\n",
       "    </tr>\n",
       "  </thead>\n",
       "  <tbody>\n",
       "    <tr>\n",
       "      <th>0</th>\n",
       "      <td>2013</td>\n",
       "      <td>1</td>\n",
       "      <td>1</td>\n",
       "      <td>2.0</td>\n",
       "      <td>830.0</td>\n",
       "      <td>11.0</td>\n",
       "      <td>UA</td>\n",
       "      <td>1545</td>\n",
       "      <td>N14228</td>\n",
       "      <td>EWR</td>\n",
       "      <td>IAH</td>\n",
       "      <td>227.0</td>\n",
       "      <td>1400</td>\n",
       "      <td>5</td>\n",
       "      <td>15</td>\n",
       "      <td>2013-01-01 10:00:00</td>\n",
       "      <td>1</td>\n",
       "      <td>6.167401</td>\n",
       "    </tr>\n",
       "    <tr>\n",
       "      <th>1</th>\n",
       "      <td>2013</td>\n",
       "      <td>1</td>\n",
       "      <td>1</td>\n",
       "      <td>4.0</td>\n",
       "      <td>850.0</td>\n",
       "      <td>20.0</td>\n",
       "      <td>UA</td>\n",
       "      <td>1714</td>\n",
       "      <td>N24211</td>\n",
       "      <td>LGA</td>\n",
       "      <td>IAH</td>\n",
       "      <td>227.0</td>\n",
       "      <td>1416</td>\n",
       "      <td>5</td>\n",
       "      <td>29</td>\n",
       "      <td>2013-01-01 10:00:00</td>\n",
       "      <td>1</td>\n",
       "      <td>6.237885</td>\n",
       "    </tr>\n",
       "    <tr>\n",
       "      <th>2</th>\n",
       "      <td>2013</td>\n",
       "      <td>1</td>\n",
       "      <td>1</td>\n",
       "      <td>2.0</td>\n",
       "      <td>923.0</td>\n",
       "      <td>33.0</td>\n",
       "      <td>AA</td>\n",
       "      <td>1141</td>\n",
       "      <td>N619AA</td>\n",
       "      <td>JFK</td>\n",
       "      <td>MIA</td>\n",
       "      <td>160.0</td>\n",
       "      <td>1089</td>\n",
       "      <td>5</td>\n",
       "      <td>40</td>\n",
       "      <td>2013-01-01 10:00:00</td>\n",
       "      <td>1</td>\n",
       "      <td>6.806250</td>\n",
       "    </tr>\n",
       "    <tr>\n",
       "      <th>3</th>\n",
       "      <td>2013</td>\n",
       "      <td>1</td>\n",
       "      <td>1</td>\n",
       "      <td>-1.0</td>\n",
       "      <td>1004.0</td>\n",
       "      <td>-18.0</td>\n",
       "      <td>B6</td>\n",
       "      <td>725</td>\n",
       "      <td>N804JB</td>\n",
       "      <td>JFK</td>\n",
       "      <td>BQN</td>\n",
       "      <td>183.0</td>\n",
       "      <td>1576</td>\n",
       "      <td>5</td>\n",
       "      <td>45</td>\n",
       "      <td>2013-01-01 10:00:00</td>\n",
       "      <td>1</td>\n",
       "      <td>8.612022</td>\n",
       "    </tr>\n",
       "    <tr>\n",
       "      <th>4</th>\n",
       "      <td>2013</td>\n",
       "      <td>1</td>\n",
       "      <td>1</td>\n",
       "      <td>-6.0</td>\n",
       "      <td>812.0</td>\n",
       "      <td>-25.0</td>\n",
       "      <td>DL</td>\n",
       "      <td>461</td>\n",
       "      <td>N668DN</td>\n",
       "      <td>LGA</td>\n",
       "      <td>ATL</td>\n",
       "      <td>116.0</td>\n",
       "      <td>762</td>\n",
       "      <td>6</td>\n",
       "      <td>0</td>\n",
       "      <td>2013-01-01 11:00:00</td>\n",
       "      <td>1</td>\n",
       "      <td>6.568966</td>\n",
       "    </tr>\n",
       "    <tr>\n",
       "      <th>...</th>\n",
       "      <td>...</td>\n",
       "      <td>...</td>\n",
       "      <td>...</td>\n",
       "      <td>...</td>\n",
       "      <td>...</td>\n",
       "      <td>...</td>\n",
       "      <td>...</td>\n",
       "      <td>...</td>\n",
       "      <td>...</td>\n",
       "      <td>...</td>\n",
       "      <td>...</td>\n",
       "      <td>...</td>\n",
       "      <td>...</td>\n",
       "      <td>...</td>\n",
       "      <td>...</td>\n",
       "      <td>...</td>\n",
       "      <td>...</td>\n",
       "      <td>...</td>\n",
       "    </tr>\n",
       "    <tr>\n",
       "      <th>336765</th>\n",
       "      <td>2013</td>\n",
       "      <td>9</td>\n",
       "      <td>30</td>\n",
       "      <td>-5.0</td>\n",
       "      <td>2334.0</td>\n",
       "      <td>-17.0</td>\n",
       "      <td>B6</td>\n",
       "      <td>1816</td>\n",
       "      <td>N354JB</td>\n",
       "      <td>JFK</td>\n",
       "      <td>SYR</td>\n",
       "      <td>41.0</td>\n",
       "      <td>209</td>\n",
       "      <td>22</td>\n",
       "      <td>45</td>\n",
       "      <td>2013-10-01 02:00:00</td>\n",
       "      <td>1</td>\n",
       "      <td>5.097561</td>\n",
       "    </tr>\n",
       "    <tr>\n",
       "      <th>336766</th>\n",
       "      <td>2013</td>\n",
       "      <td>9</td>\n",
       "      <td>30</td>\n",
       "      <td>-10.0</td>\n",
       "      <td>2347.0</td>\n",
       "      <td>-20.0</td>\n",
       "      <td>B6</td>\n",
       "      <td>2002</td>\n",
       "      <td>N281JB</td>\n",
       "      <td>JFK</td>\n",
       "      <td>BUF</td>\n",
       "      <td>52.0</td>\n",
       "      <td>301</td>\n",
       "      <td>22</td>\n",
       "      <td>50</td>\n",
       "      <td>2013-10-01 02:00:00</td>\n",
       "      <td>1</td>\n",
       "      <td>5.788462</td>\n",
       "    </tr>\n",
       "    <tr>\n",
       "      <th>336767</th>\n",
       "      <td>2013</td>\n",
       "      <td>9</td>\n",
       "      <td>30</td>\n",
       "      <td>-5.0</td>\n",
       "      <td>2345.0</td>\n",
       "      <td>-16.0</td>\n",
       "      <td>B6</td>\n",
       "      <td>486</td>\n",
       "      <td>N346JB</td>\n",
       "      <td>JFK</td>\n",
       "      <td>ROC</td>\n",
       "      <td>47.0</td>\n",
       "      <td>264</td>\n",
       "      <td>22</td>\n",
       "      <td>46</td>\n",
       "      <td>2013-10-01 02:00:00</td>\n",
       "      <td>1</td>\n",
       "      <td>5.617021</td>\n",
       "    </tr>\n",
       "    <tr>\n",
       "      <th>336768</th>\n",
       "      <td>2013</td>\n",
       "      <td>9</td>\n",
       "      <td>30</td>\n",
       "      <td>12.0</td>\n",
       "      <td>2359.0</td>\n",
       "      <td>1.0</td>\n",
       "      <td>B6</td>\n",
       "      <td>718</td>\n",
       "      <td>N565JB</td>\n",
       "      <td>JFK</td>\n",
       "      <td>BOS</td>\n",
       "      <td>33.0</td>\n",
       "      <td>187</td>\n",
       "      <td>22</td>\n",
       "      <td>55</td>\n",
       "      <td>2013-10-01 02:00:00</td>\n",
       "      <td>1</td>\n",
       "      <td>5.666667</td>\n",
       "    </tr>\n",
       "    <tr>\n",
       "      <th>336769</th>\n",
       "      <td>2013</td>\n",
       "      <td>9</td>\n",
       "      <td>30</td>\n",
       "      <td>-10.0</td>\n",
       "      <td>325.0</td>\n",
       "      <td>-25.0</td>\n",
       "      <td>B6</td>\n",
       "      <td>745</td>\n",
       "      <td>N516JB</td>\n",
       "      <td>JFK</td>\n",
       "      <td>PSE</td>\n",
       "      <td>196.0</td>\n",
       "      <td>1617</td>\n",
       "      <td>23</td>\n",
       "      <td>59</td>\n",
       "      <td>2013-10-01 03:00:00</td>\n",
       "      <td>1</td>\n",
       "      <td>8.250000</td>\n",
       "    </tr>\n",
       "  </tbody>\n",
       "</table>\n",
       "<p>327346 rows × 18 columns</p>\n",
       "</div>"
      ],
      "text/plain": [
       "        year  month  day  dep_delay  arr_time  arr_delay carrier  flight  \\\n",
       "0       2013      1    1        2.0     830.0       11.0      UA    1545   \n",
       "1       2013      1    1        4.0     850.0       20.0      UA    1714   \n",
       "2       2013      1    1        2.0     923.0       33.0      AA    1141   \n",
       "3       2013      1    1       -1.0    1004.0      -18.0      B6     725   \n",
       "4       2013      1    1       -6.0     812.0      -25.0      DL     461   \n",
       "...      ...    ...  ...        ...       ...        ...     ...     ...   \n",
       "336765  2013      9   30       -5.0    2334.0      -17.0      B6    1816   \n",
       "336766  2013      9   30      -10.0    2347.0      -20.0      B6    2002   \n",
       "336767  2013      9   30       -5.0    2345.0      -16.0      B6     486   \n",
       "336768  2013      9   30       12.0    2359.0        1.0      B6     718   \n",
       "336769  2013      9   30      -10.0     325.0      -25.0      B6     745   \n",
       "\n",
       "       tailnum origin dest  air_time  distance  hour  minute  \\\n",
       "0       N14228    EWR  IAH     227.0      1400     5      15   \n",
       "1       N24211    LGA  IAH     227.0      1416     5      29   \n",
       "2       N619AA    JFK  MIA     160.0      1089     5      40   \n",
       "3       N804JB    JFK  BQN     183.0      1576     5      45   \n",
       "4       N668DN    LGA  ATL     116.0       762     6       0   \n",
       "...        ...    ...  ...       ...       ...   ...     ...   \n",
       "336765  N354JB    JFK  SYR      41.0       209    22      45   \n",
       "336766  N281JB    JFK  BUF      52.0       301    22      50   \n",
       "336767  N346JB    JFK  ROC      47.0       264    22      46   \n",
       "336768  N565JB    JFK  BOS      33.0       187    22      55   \n",
       "336769  N516JB    JFK  PSE     196.0      1617    23      59   \n",
       "\n",
       "                 time_hour  dayofweek  speed_per_min  \n",
       "0      2013-01-01 10:00:00          1       6.167401  \n",
       "1      2013-01-01 10:00:00          1       6.237885  \n",
       "2      2013-01-01 10:00:00          1       6.806250  \n",
       "3      2013-01-01 10:00:00          1       8.612022  \n",
       "4      2013-01-01 11:00:00          1       6.568966  \n",
       "...                    ...        ...            ...  \n",
       "336765 2013-10-01 02:00:00          1       5.097561  \n",
       "336766 2013-10-01 02:00:00          1       5.788462  \n",
       "336767 2013-10-01 02:00:00          1       5.617021  \n",
       "336768 2013-10-01 02:00:00          1       5.666667  \n",
       "336769 2013-10-01 03:00:00          1       8.250000  \n",
       "\n",
       "[327346 rows x 18 columns]"
      ]
     },
     "execution_count": 13,
     "metadata": {},
     "output_type": "execute_result"
    }
   ],
   "source": [
    "flights"
   ]
  },
  {
   "cell_type": "code",
   "execution_count": 14,
   "id": "8b53ae7f",
   "metadata": {},
   "outputs": [
    {
     "data": {
      "text/plain": [
       "year             0\n",
       "month            0\n",
       "day              0\n",
       "dep_delay        0\n",
       "arr_time         0\n",
       "arr_delay        0\n",
       "carrier          0\n",
       "flight           0\n",
       "tailnum          0\n",
       "origin           0\n",
       "dest             0\n",
       "air_time         0\n",
       "distance         0\n",
       "hour             0\n",
       "minute           0\n",
       "time_hour        0\n",
       "dayofweek        0\n",
       "speed_per_min    0\n",
       "dtype: int64"
      ]
     },
     "execution_count": 14,
     "metadata": {},
     "output_type": "execute_result"
    }
   ],
   "source": [
    "flights.isna().sum()"
   ]
  },
  {
   "cell_type": "markdown",
   "id": "0906527a",
   "metadata": {},
   "source": [
    "<h2>Visualization and Plotting</h2>"
   ]
  },
  {
   "cell_type": "code",
   "execution_count": 15,
   "id": "fb7aa321",
   "metadata": {},
   "outputs": [
    {
     "data": {
      "text/plain": [
       "Text(0.5, 1.0, 'Number of Flights from Each Destination')"
      ]
     },
     "execution_count": 15,
     "metadata": {},
     "output_type": "execute_result"
    },
    {
     "data": {
      "image/png": "[encoded data removed]",
      "text/plain": [
       "<Figure size 360x360 with 1 Axes>"
      ]
     },
     "metadata": {
      "needs_background": "light"
     },
     "output_type": "display_data"
    }
   ],
   "source": [
    "plot=sns.catplot(data= flights, kind = 'count', x = 'origin')\n",
    "plot.ax.set_title('Number of Flights from Each Destination')"
   ]
  },
  {
   "cell_type": "code",
   "execution_count": 16,
   "id": "7f5ef4dc",
   "metadata": {},
   "outputs": [
    {
     "data": {
      "text/plain": [
       "Text(0.5, 1.0, 'Number of flights from each carrier')"
      ]
     },
     "execution_count": 16,
     "metadata": {},
     "output_type": "execute_result"
    },
    {
     "data": {
      "image/png": "[encoded data removed]",
      "text/plain": [
       "<Figure size 720x360 with 1 Axes>"
      ]
     },
     "metadata": {
      "needs_background": "light"
     },
     "output_type": "display_data"
    }
   ],
   "source": [
    "plot=sns.catplot(data= flights, kind = 'count', x = 'carrier', aspect=2)\n",
    "plot.ax.set_title('Number of flights from each carrier')"
   ]
  },
  {
   "cell_type": "code",
   "execution_count": 17,
   "id": "5a86d4e6",
   "metadata": {},
   "outputs": [
    {
     "data": {
      "image/png": "[encoded data removed]",
      "text/plain": [
       "<Figure size 900x360 with 2 Axes>"
      ]
     },
     "metadata": {
      "needs_background": "light"
     },
     "output_type": "display_data"
    }
   ],
   "source": [
    "plot = sns.displot(data=flights, x=\"carrier\", y=\"origin\", cbar=True, aspect=2.5)\n",
    "plot.ax.set_title('Flights Departing from Each Airport')\n",
    "plot.ax.tick_params(labelrotation = 90)"
   ]
  },
  {
   "cell_type": "code",
   "execution_count": 18,
   "id": "da60bb2e",
   "metadata": {},
   "outputs": [
    {
     "data": {
      "image/png": "[encoded data removed]",
      "text/plain": [
       "<Figure size 1440x504 with 1 Axes>"
      ]
     },
     "metadata": {
      "needs_background": "light"
     },
     "output_type": "display_data"
    }
   ],
   "source": [
    "grouped_byCarrier_averageDelay=flights.groupby('carrier').dep_delay.mean()\n",
    "grouped_byCarrier_averageDelay.plot.bar(figsize=(20, 7))\n",
    "plt.ylabel(\"Average Delay\")\n",
    "plt.title(\"Average Departure Delay in each Carrier\")\n",
    "plt.show()"
   ]
  },
  {
   "cell_type": "code",
   "execution_count": 19,
   "id": "2fc6be63",
   "metadata": {},
   "outputs": [
    {
     "data": {
      "image/png": "[encoded data removed]",
      "text/plain": [
       "<Figure size 1440x504 with 1 Axes>"
      ]
     },
     "metadata": {
      "needs_background": "light"
     },
     "output_type": "display_data"
    }
   ],
   "source": [
    "grouped_byOrigin_averageDelay=flights.groupby('origin').dep_delay.mean()\n",
    "grouped_byOrigin_averageDelay.plot.bar(figsize=(20,7))\n",
    "plt.ylabel('average delay')\n",
    "plt.title(\"Average Departure Delay in Each Origin\")\n",
    "plt.show()"
   ]
  },
  {
   "cell_type": "code",
   "execution_count": 20,
   "id": "f553ab62",
   "metadata": {},
   "outputs": [
    {
     "data": {
      "image/png": "[encoded data removed]",
      "text/plain": [
       "<Figure size 1440x504 with 1 Axes>"
      ]
     },
     "metadata": {
      "needs_background": "light"
     },
     "output_type": "display_data"
    }
   ],
   "source": [
    "grouped_by_maxAirtime = flights.groupby('carrier').air_time.sum().sort_values()\n",
    "grouped_by_maxAirtime.plot.bar(figsize=(20, 7))\n",
    "plt.ylabel('Airtime')\n",
    "plt.title(\"Total airtime in each carrier\")\n",
    "plt.show()"
   ]
  },
  {
   "cell_type": "markdown",
   "id": "efc2c35c",
   "metadata": {},
   "source": [
    "plot=sns.catplot(data= flights, kind = 'count', x = 'dest', aspect=2.5, )\n",
    "plot.ax.tick_params(labelrotation = 90)\n",
    "plot.ax.set_title('Flight counts based on destination')"
   ]
  },
  {
   "cell_type": "code",
   "execution_count": 21,
   "id": "27005b74",
   "metadata": {},
   "outputs": [
    {
     "data": {
      "image/png": "[encoded data removed]",
      "text/plain": [
       "<Figure size 1440x720 with 1 Axes>"
      ]
     },
     "metadata": {
      "needs_background": "light"
     },
     "output_type": "display_data"
    }
   ],
   "source": [
    "grouped_byDest_averageDelay=flights.groupby('dest').arr_delay.mean()\n",
    "grouped_byDest_averageDelay.plot.bar(figsize=(20,10))\n",
    "plt.ylabel('average delay')\n",
    "plt.title(\"Average Departure Delay in Each Destination\")\n",
    "plt.show()"
   ]
  },
  {
   "cell_type": "code",
   "execution_count": 22,
   "id": "a172c694",
   "metadata": {},
   "outputs": [
    {
     "data": {
      "text/plain": [
       "Text(0.5, 1.0, 'Day of the week Number of flights')"
      ]
     },
     "execution_count": 22,
     "metadata": {},
     "output_type": "execute_result"
    },
    {
     "data": {
      "image/png": "[encoded data removed]",
      "text/plain": [
       "<Figure size 900x360 with 1 Axes>"
      ]
     },
     "metadata": {
      "needs_background": "light"
     },
     "output_type": "display_data"
    }
   ],
   "source": [
    "plot=sns.catplot(data= flights, kind = 'count', x = 'dayofweek', aspect=2.5, palette=\"muted\")\n",
    "plot.set_xticklabels(['Monday','Tuesday', 'Wednesday','Thursday', 'Friday', 'Saturday', 'Sunday'])\n",
    "plot.ax.set_title(\"Day of the week Number of flights\")"
   ]
  },
  {
   "cell_type": "code",
   "execution_count": 23,
   "id": "b4ddeb48",
   "metadata": {},
   "outputs": [
    {
     "data": {
      "text/plain": [
       "Text(0, 0.5, 'speed per minute')"
      ]
     },
     "execution_count": 23,
     "metadata": {},
     "output_type": "execute_result"
    },
    {
     "data": {
      "image/png": "[encoded data removed]",
      "text/plain": [
       "<Figure size 1440x504 with 1 Axes>"
      ]
     },
     "metadata": {
      "needs_background": "light"
     },
     "output_type": "display_data"
    }
   ],
   "source": [
    "flights.groupby('carrier').speed_per_min.mean().plot.bar(figsize=(20,7))\n",
    "plt.title(\"Average Speed of each Carrier per min\")\n",
    "plt.ylabel(\"speed per minute\")"
   ]
  },
  {
   "cell_type": "code",
   "execution_count": 24,
   "id": "92b30d96",
   "metadata": {},
   "outputs": [
    {
     "data": {
      "image/png": "[encoded data removed]",
      "text/plain": [
       "<Figure size 1440x360 with 2 Axes>"
      ]
     },
     "metadata": {
      "needs_background": "light"
     },
     "output_type": "display_data"
    }
   ],
   "source": [
    "plot = sns.displot(data=flights, x=\"dest\", y=\"origin\", cbar=True, aspect=4)\n",
    "plot.ax.set_title('Flight Connectivity')\n",
    "plot.ax.tick_params(labelrotation = 90)"
   ]
  },
  {
   "cell_type": "code",
   "execution_count": 25,
   "id": "ab91cb7b",
   "metadata": {},
   "outputs": [
    {
     "data": {
      "text/plain": [
       "Text(0.5, 1.0, 'Arilines taking long distance flights')"
      ]
     },
     "execution_count": 25,
     "metadata": {},
     "output_type": "execute_result"
    },
    {
     "data": {
      "image/png": "[encoded data removed]",
      "text/plain": [
       "<Figure size 1440x504 with 1 Axes>"
      ]
     },
     "metadata": {
      "needs_background": "light"
     },
     "output_type": "display_data"
    }
   ],
   "source": [
    "flights.groupby('carrier').distance.mean().plot.bar(figsize=(20,7))\n",
    "plt.ylabel('Average Distance')\n",
    "plt.title(\"Arilines taking long distance flights\")"
   ]
  },
  {
   "cell_type": "code",
   "execution_count": 26,
   "id": "270f4eca",
   "metadata": {},
   "outputs": [
    {
     "data": {
      "text/plain": [
       "Text(0.5, 1.0, 'box plot to show outliers and average departure delay in each carrier')"
      ]
     },
     "execution_count": 26,
     "metadata": {},
     "output_type": "execute_result"
    },
    {
     "data": {
      "image/png": "[encoded data removed]",
      "text/plain": [
       "<Figure size 1440x1080 with 1 Axes>"
      ]
     },
     "metadata": {},
     "output_type": "display_data"
    }
   ],
   "source": [
    "sns.set(rc={\"figure.figsize\":(20, 15)}) #width=12, #height=7\n",
    "sns.set_style('ticks')\n",
    "plot = sns.boxplot(y = 'carrier', x = 'dep_delay', data = flights)\n",
    "plot.set_title(\"box plot to show outliers and average departure delay in each carrier\")"
   ]
  },
  {
   "cell_type": "markdown",
   "id": "263c650d",
   "metadata": {},
   "source": [
    "<h5>Summary</h5>\n",
    "<ul>\n",
    "    <li>Most number of flights take off from EWR Airport and least number of flights from LGA</li>\n",
    "    <li>United airlines has most number of flights and OO airline has least number of flights</li>\n",
    "    <li>\"WN\", \"FL\", \"AS\", \"F9\", YV, OO doesnt have any flights from JFK airport</li>\n",
    "    <li>\"VX\", \"AS\", \"HA\" doesn't have any flights from LGA airport</li>\n",
    "    <li>\"FL\", \"F9\", \"HA\", \"YV\" doesn't have any operations from EWR Airport</li>\n",
    "    <li>\"F9\", \"EV\", \"FL\" has highest carriers have highest departure delays</li>\n",
    "    <li>\"US\", \"HA\" have minimum delays when compared to other airlines</li>\n",
    "    <li>Flights reaching CAE airport has largest arrival delays</li>\n",
    "    <li>Number of flights travelling from each airport during weekday is almost same.</li>\n",
    "    <li>Number of flights travelling in the weekend are less compared to weekday</li>\n",
    "    <li>\"hawaiian airlines\" has the fastest speeds among all the carriers</li>\n",
    "    <li>EWR has highest connectivity to the destination and JFK has the lowest connectivity among the three destinations</li>\n",
    "    <li>\"hawaiian airlines\" has longest flights or \"hawaiian airlines\" flights are travelling great distance when compared to other carriers </li>\n",
    "</ul>"
   ]
  },
  {
   "cell_type": "code",
   "execution_count": null,
   "id": "a50e5ade",
   "metadata": {},
   "outputs": [],
   "source": []
  }
 ],
 "metadata": {
  "kernelspec": {
   "display_name": "Python 3 (ipykernel)",
   "language": "python",
   "name": "python3"
  },
  "language_info": {
   "codemirror_mode": {
    "name": "ipython",
    "version": 3
   },
   "file_extension": ".py",
   "mimetype": "text/x-python",
   "name": "python",
   "nbconvert_exporter": "python",
   "pygments_lexer": "ipython3",
   "version": "3.9.7"
  },
  "toc": {
   "base_numbering": 1,
   "nav_menu": {},
   "number_sections": true,
   "sideBar": true,
   "skip_h1_title": false,
   "title_cell": "Table of Contents",
   "title_sidebar": "Contents",
   "toc_cell": false,
   "toc_position": {},
   "toc_section_display": true,
   "toc_window_display": false
  }
 },
 "nbformat": 4,
 "nbformat_minor": 5
}
