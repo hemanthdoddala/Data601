{
 "cells": [
  {
   "cell_type": "code",
   "execution_count": 12,
   "metadata": {},
   "outputs": [],
   "source": [
    "# watch this: https://www.youtube.com/watch?v=iFTWM7HV2UI\n",
    "# your cleaned data after you complete this analysis: \n",
    "# upload to: https://docs.google.com/forms/d/e/1FAIpQLScVuy4aSiSSpLfUOxbmutWtcUidfkzPDc-C0J2gy6Y8TXqeHQ/viewform\n",
    "\n",
    "import pandas as pd\n",
    "\n",
    "import matplotlib\n",
    "import matplotlib.pyplot as plt"
   ]
  },
  {
   "cell_type": "code",
   "execution_count": 13,
   "metadata": {},
   "outputs": [
    {
     "data": {
      "text/plain": [
       "(7790, 2)"
      ]
     },
     "execution_count": 13,
     "metadata": {},
     "output_type": "execute_result"
    }
   ],
   "source": [
    "df = pd.read_csv('history_cleaned.csv')\n",
    "df.shape"
   ]
  },
  {
   "cell_type": "code",
   "execution_count": 14,
   "metadata": {},
   "outputs": [
    {
     "data": {
      "text/html": [
       "<div>\n",
       "<style scoped>\n",
       "    .dataframe tbody tr th:only-of-type {\n",
       "        vertical-align: middle;\n",
       "    }\n",
       "\n",
       "    .dataframe tbody tr th {\n",
       "        vertical-align: top;\n",
       "    }\n",
       "\n",
       "    .dataframe thead th {\n",
       "        text-align: right;\n",
       "    }\n",
       "</style>\n",
       "<table border=\"1\" class=\"dataframe\">\n",
       "  <thead>\n",
       "    <tr style=\"text-align: right;\">\n",
       "      <th></th>\n",
       "      <th>Time</th>\n",
       "      <th>domain</th>\n",
       "    </tr>\n",
       "  </thead>\n",
       "  <tbody>\n",
       "    <tr>\n",
       "      <th>0</th>\n",
       "      <td>2022-02-02 19:55:32</td>\n",
       "      <td>www.google.com</td>\n",
       "    </tr>\n",
       "    <tr>\n",
       "      <th>1</th>\n",
       "      <td>2022-02-02 19:55:33</td>\n",
       "      <td>web.whatsapp.com</td>\n",
       "    </tr>\n",
       "    <tr>\n",
       "      <th>2</th>\n",
       "      <td>2022-02-02 19:56:51</td>\n",
       "      <td>chrome.google.com</td>\n",
       "    </tr>\n",
       "    <tr>\n",
       "      <th>3</th>\n",
       "      <td>2022-02-02 19:56:55</td>\n",
       "      <td>www.grammarly.com</td>\n",
       "    </tr>\n",
       "    <tr>\n",
       "      <th>4</th>\n",
       "      <td>2022-02-02 19:57:36</td>\n",
       "      <td>accounts.google.com</td>\n",
       "    </tr>\n",
       "  </tbody>\n",
       "</table>\n",
       "</div>"
      ],
      "text/plain": [
       "                  Time               domain\n",
       "0  2022-02-02 19:55:32       www.google.com\n",
       "1  2022-02-02 19:55:33     web.whatsapp.com\n",
       "2  2022-02-02 19:56:51    chrome.google.com\n",
       "3  2022-02-02 19:56:55    www.grammarly.com\n",
       "4  2022-02-02 19:57:36  accounts.google.com"
      ]
     },
     "execution_count": 14,
     "metadata": {},
     "output_type": "execute_result"
    }
   ],
   "source": [
    "df.head()"
   ]
  },
  {
   "cell_type": "code",
   "execution_count": 15,
   "metadata": {},
   "outputs": [
    {
     "data": {
      "text/html": [
       "<div>\n",
       "<style scoped>\n",
       "    .dataframe tbody tr th:only-of-type {\n",
       "        vertical-align: middle;\n",
       "    }\n",
       "\n",
       "    .dataframe tbody tr th {\n",
       "        vertical-align: top;\n",
       "    }\n",
       "\n",
       "    .dataframe thead th {\n",
       "        text-align: right;\n",
       "    }\n",
       "</style>\n",
       "<table border=\"1\" class=\"dataframe\">\n",
       "  <thead>\n",
       "    <tr style=\"text-align: right;\">\n",
       "      <th></th>\n",
       "      <th>Time</th>\n",
       "      <th>domain</th>\n",
       "    </tr>\n",
       "  </thead>\n",
       "  <tbody>\n",
       "    <tr>\n",
       "      <th>7785</th>\n",
       "      <td>2022-04-16 20:40:36</td>\n",
       "      <td>webauth.umbc.edu</td>\n",
       "    </tr>\n",
       "    <tr>\n",
       "      <th>7786</th>\n",
       "      <td>2022-04-16 20:54:17</td>\n",
       "      <td>www.google.com</td>\n",
       "    </tr>\n",
       "    <tr>\n",
       "      <th>7787</th>\n",
       "      <td>2022-04-16 20:54:24</td>\n",
       "      <td>www.mozilla.org</td>\n",
       "    </tr>\n",
       "    <tr>\n",
       "      <th>7788</th>\n",
       "      <td>2022-04-16 20:54:26</td>\n",
       "      <td>www.mozilla.org</td>\n",
       "    </tr>\n",
       "    <tr>\n",
       "      <th>7789</th>\n",
       "      <td>2022-04-16 21:21:55</td>\n",
       "      <td>blackboard.umbc.edu</td>\n",
       "    </tr>\n",
       "  </tbody>\n",
       "</table>\n",
       "</div>"
      ],
      "text/plain": [
       "                     Time               domain\n",
       "7785  2022-04-16 20:40:36     webauth.umbc.edu\n",
       "7786  2022-04-16 20:54:17       www.google.com\n",
       "7787  2022-04-16 20:54:24      www.mozilla.org\n",
       "7788  2022-04-16 20:54:26      www.mozilla.org\n",
       "7789  2022-04-16 21:21:55  blackboard.umbc.edu"
      ]
     },
     "execution_count": 15,
     "metadata": {},
     "output_type": "execute_result"
    }
   ],
   "source": [
    "df.tail()"
   ]
  },
  {
   "cell_type": "code",
   "execution_count": 16,
   "metadata": {},
   "outputs": [
    {
     "data": {
      "text/plain": [
       "Time      0\n",
       "domain    0\n",
       "dtype: int64"
      ]
     },
     "execution_count": 16,
     "metadata": {},
     "output_type": "execute_result"
    }
   ],
   "source": [
    "df.isna().sum()"
   ]
  },
  {
   "cell_type": "code",
   "execution_count": 17,
   "metadata": {},
   "outputs": [],
   "source": [
    "df.dropna( inplace=True)"
   ]
  },
  {
   "cell_type": "code",
   "execution_count": 18,
   "metadata": {},
   "outputs": [
    {
     "data": {
      "text/plain": [
       "Time      object\n",
       "domain    object\n",
       "dtype: object"
      ]
     },
     "execution_count": 18,
     "metadata": {},
     "output_type": "execute_result"
    }
   ],
   "source": [
    "df.dtypes"
   ]
  },
  {
   "cell_type": "code",
   "execution_count": 19,
   "metadata": {},
   "outputs": [
    {
     "data": {
      "text/plain": [
       "0"
      ]
     },
     "execution_count": 19,
     "metadata": {},
     "output_type": "execute_result"
    }
   ],
   "source": [
    "# time column is string and string date is starting with YYYY, so I can do string compares\n",
    "sum(df['Time'] < '1900') "
   ]
  },
  {
   "cell_type": "code",
   "execution_count": 20,
   "metadata": {},
   "outputs": [],
   "source": [
    "# I filter and get a copy, so I will not work on a slice, this will be a new dataframe. (essentially losing 1900 data points)\n",
    "df = df[df.Time > '1900'].copy() "
   ]
  },
  {
   "cell_type": "code",
   "execution_count": 21,
   "metadata": {},
   "outputs": [],
   "source": [
    "df['Time'] = pd.to_datetime(df['Time'])"
   ]
  },
  {
   "cell_type": "code",
   "execution_count": 11,
   "metadata": {},
   "outputs": [],
   "source": [
    "# df['domain'] = df['domain'].astype(str)"
   ]
  },
  {
   "cell_type": "code",
   "execution_count": 22,
   "metadata": {},
   "outputs": [
    {
     "data": {
      "text/plain": [
       "Time      datetime64[ns]\n",
       "domain            object\n",
       "dtype: object"
      ]
     },
     "execution_count": 22,
     "metadata": {},
     "output_type": "execute_result"
    }
   ],
   "source": [
    "df.dtypes"
   ]
  },
  {
   "cell_type": "code",
   "execution_count": 23,
   "metadata": {},
   "outputs": [
    {
     "data": {
      "text/html": [
       "<div>\n",
       "<style scoped>\n",
       "    .dataframe tbody tr th:only-of-type {\n",
       "        vertical-align: middle;\n",
       "    }\n",
       "\n",
       "    .dataframe tbody tr th {\n",
       "        vertical-align: top;\n",
       "    }\n",
       "\n",
       "    .dataframe thead th {\n",
       "        text-align: right;\n",
       "    }\n",
       "</style>\n",
       "<table border=\"1\" class=\"dataframe\">\n",
       "  <thead>\n",
       "    <tr style=\"text-align: right;\">\n",
       "      <th></th>\n",
       "      <th>Time</th>\n",
       "      <th>domain</th>\n",
       "    </tr>\n",
       "  </thead>\n",
       "  <tbody>\n",
       "    <tr>\n",
       "      <th>0</th>\n",
       "      <td>2022-02-02 19:55:32</td>\n",
       "      <td>www.google.com</td>\n",
       "    </tr>\n",
       "    <tr>\n",
       "      <th>1</th>\n",
       "      <td>2022-02-02 19:55:33</td>\n",
       "      <td>web.whatsapp.com</td>\n",
       "    </tr>\n",
       "    <tr>\n",
       "      <th>2</th>\n",
       "      <td>2022-02-02 19:56:51</td>\n",
       "      <td>chrome.google.com</td>\n",
       "    </tr>\n",
       "    <tr>\n",
       "      <th>3</th>\n",
       "      <td>2022-02-02 19:56:55</td>\n",
       "      <td>www.grammarly.com</td>\n",
       "    </tr>\n",
       "    <tr>\n",
       "      <th>4</th>\n",
       "      <td>2022-02-02 19:57:36</td>\n",
       "      <td>accounts.google.com</td>\n",
       "    </tr>\n",
       "  </tbody>\n",
       "</table>\n",
       "</div>"
      ],
      "text/plain": [
       "                 Time               domain\n",
       "0 2022-02-02 19:55:32       www.google.com\n",
       "1 2022-02-02 19:55:33     web.whatsapp.com\n",
       "2 2022-02-02 19:56:51    chrome.google.com\n",
       "3 2022-02-02 19:56:55    www.grammarly.com\n",
       "4 2022-02-02 19:57:36  accounts.google.com"
      ]
     },
     "execution_count": 23,
     "metadata": {},
     "output_type": "execute_result"
    }
   ],
   "source": [
    "df.head()"
   ]
  },
  {
   "cell_type": "code",
   "execution_count": 14,
   "metadata": {
    "scrolled": false
   },
   "outputs": [
    {
     "data": {
      "text/plain": [
       "www.google.com                       1823\n",
       "webauth.umbc.edu                      875\n",
       "github.com                            674\n",
       "localhost:8888                        431\n",
       "blackboard.umbc.edu                   376\n",
       "www.udemy.com                         300\n",
       "stackoverflow.com                     212\n",
       "my.umbc.edu                           196\n",
       "www.w3schools.com                     179\n",
       "www.eenadu.net                        127\n",
       "www.youtube.com                       107\n",
       "csprd-web.ps.umbc.edu                  95\n",
       "mail.google.com                        85\n",
       "www.geeksforgeeks.org                  72\n",
       "www.amazon.com                         67\n",
       "localhost:8889                         67\n",
       "meet.google.com                        64\n",
       "www.bestbuy.com                        51\n",
       "datasetsearch.research.google.com      48\n",
       "pandas.pydata.org                      46\n",
       "www.tutorialspoint.com                 46\n",
       "faker.readthedocs.io                   43\n",
       "www.walmart.com                        38\n",
       "my3.my.umbc.edu                        38\n",
       "netbanking.hdfcbank.com                37\n",
       "accounts.google.com                    36\n",
       "commerce.cashnet.com                   35\n",
       "web.whatsapp.com                       32\n",
       "www.pdbmbook.com                       31\n",
       "www.costco.com                         29\n",
       "www.apartments.com                     29\n",
       "umbc.app.box.com                       26\n",
       "www.hdfcbank.com                       26\n",
       "spinbot.com                            25\n",
       "umbc.webex.com                         23\n",
       "myretrievercare.umbc.edu               23\n",
       "survey.confirmit.com                   23\n",
       "www.officedepot.com                    21\n",
       "sso.services.box.net                   20\n",
       "financialaid.umbc.edu                  20\n",
       "localhost:4200                         20\n",
       "slither.io                             19\n",
       "jrnold.github.io                       18\n",
       "www.amtrak.com                         16\n",
       "www.grammarly.com                      16\n",
       "www.westernunion.com                   16\n",
       "catalog.data.gov                       16\n",
       "towardsdatascience.com                 15\n",
       "docs.microsoft.com                     15\n",
       "www.linkedin.com                       14\n",
       "Name: domain, dtype: int64"
      ]
     },
     "execution_count": 14,
     "metadata": {},
     "output_type": "execute_result"
    }
   ],
   "source": [
    "df['domain'].value_counts()[:50]"
   ]
  },
  {
   "cell_type": "code",
   "execution_count": 24,
   "metadata": {},
   "outputs": [
    {
     "data": {
      "text/plain": [
       "<AxesSubplot:>"
      ]
     },
     "execution_count": 24,
     "metadata": {},
     "output_type": "execute_result"
    },
    {
     "data": {
      "image/png": "[encoded data removed]",
      "text/plain": [
       "<Figure size 432x288 with 1 Axes>"
      ]
     },
     "metadata": {
      "needs_background": "light"
     },
     "output_type": "display_data"
    }
   ],
   "source": [
    "# top 10 sites that I visisted\n",
    "df['domain'].value_counts()[:10].plot(kind='bar')"
   ]
  },
  {
   "cell_type": "code",
   "execution_count": 25,
   "metadata": {},
   "outputs": [
    {
     "data": {
      "text/plain": [
       "Time\n",
       "0     372\n",
       "1     269\n",
       "2      89\n",
       "7      45\n",
       "8     155\n",
       "9     275\n",
       "10    373\n",
       "11    418\n",
       "12    293\n",
       "13    193\n",
       "14    305\n",
       "15    276\n",
       "16    470\n",
       "17    288\n",
       "18    506\n",
       "19    778\n",
       "20    634\n",
       "21    594\n",
       "22    722\n",
       "23    735\n",
       "Name: domain, dtype: int64"
      ]
     },
     "execution_count": 25,
     "metadata": {},
     "output_type": "execute_result"
    }
   ],
   "source": [
    "hourly_counts = df.groupby(df.Time.dt.hour).domain.size()\n",
    "hourly_counts"
   ]
  },
  {
   "cell_type": "code",
   "execution_count": 26,
   "metadata": {
    "scrolled": true
   },
   "outputs": [
    {
     "data": {
      "text/plain": [
       "<AxesSubplot:xlabel='Time'>"
      ]
     },
     "execution_count": 26,
     "metadata": {},
     "output_type": "execute_result"
    },
    {
     "data": {
      "image/png": "[encoded data removed]",
      "text/plain": [
       "<Figure size 432x288 with 1 Axes>"
      ]
     },
     "metadata": {
      "needs_background": "light"
     },
     "output_type": "display_data"
    }
   ],
   "source": [
    "hourly_counts.plot.bar()"
   ]
  },
  {
   "cell_type": "code",
   "execution_count": 27,
   "metadata": {},
   "outputs": [
    {
     "data": {
      "text/html": [
       "<div>\n",
       "<style scoped>\n",
       "    .dataframe tbody tr th:only-of-type {\n",
       "        vertical-align: middle;\n",
       "    }\n",
       "\n",
       "    .dataframe tbody tr th {\n",
       "        vertical-align: top;\n",
       "    }\n",
       "\n",
       "    .dataframe thead th {\n",
       "        text-align: right;\n",
       "    }\n",
       "</style>\n",
       "<table border=\"1\" class=\"dataframe\">\n",
       "  <thead>\n",
       "    <tr style=\"text-align: right;\">\n",
       "      <th></th>\n",
       "      <th>Time</th>\n",
       "      <th>domain</th>\n",
       "      <th>Day</th>\n",
       "      <th>DayIndex</th>\n",
       "    </tr>\n",
       "  </thead>\n",
       "  <tbody>\n",
       "    <tr>\n",
       "      <th>0</th>\n",
       "      <td>2022-02-02 19:55:32</td>\n",
       "      <td>www.google.com</td>\n",
       "      <td>Wednesday</td>\n",
       "      <td>2</td>\n",
       "    </tr>\n",
       "    <tr>\n",
       "      <th>1</th>\n",
       "      <td>2022-02-02 19:55:33</td>\n",
       "      <td>web.whatsapp.com</td>\n",
       "      <td>Wednesday</td>\n",
       "      <td>2</td>\n",
       "    </tr>\n",
       "    <tr>\n",
       "      <th>2</th>\n",
       "      <td>2022-02-02 19:56:51</td>\n",
       "      <td>chrome.google.com</td>\n",
       "      <td>Wednesday</td>\n",
       "      <td>2</td>\n",
       "    </tr>\n",
       "    <tr>\n",
       "      <th>3</th>\n",
       "      <td>2022-02-02 19:56:55</td>\n",
       "      <td>www.grammarly.com</td>\n",
       "      <td>Wednesday</td>\n",
       "      <td>2</td>\n",
       "    </tr>\n",
       "    <tr>\n",
       "      <th>4</th>\n",
       "      <td>2022-02-02 19:57:36</td>\n",
       "      <td>accounts.google.com</td>\n",
       "      <td>Wednesday</td>\n",
       "      <td>2</td>\n",
       "    </tr>\n",
       "  </tbody>\n",
       "</table>\n",
       "</div>"
      ],
      "text/plain": [
       "                 Time               domain        Day  DayIndex\n",
       "0 2022-02-02 19:55:32       www.google.com  Wednesday         2\n",
       "1 2022-02-02 19:55:33     web.whatsapp.com  Wednesday         2\n",
       "2 2022-02-02 19:56:51    chrome.google.com  Wednesday         2\n",
       "3 2022-02-02 19:56:55    www.grammarly.com  Wednesday         2\n",
       "4 2022-02-02 19:57:36  accounts.google.com  Wednesday         2"
      ]
     },
     "execution_count": 27,
     "metadata": {},
     "output_type": "execute_result"
    }
   ],
   "source": [
    "df['Day'] = [ d.day_name() for d in df['Time']]\n",
    "df['DayIndex'] = [ d.dayofweek for d in df['Time']]\n",
    "df.head()"
   ]
  },
  {
   "cell_type": "code",
   "execution_count": 29,
   "metadata": {},
   "outputs": [
    {
     "data": {
      "text/plain": [
       "Tuesday      1447\n",
       "Thursday     1414\n",
       "Monday       1302\n",
       "Sunday        962\n",
       "Saturday      930\n",
       "Friday        916\n",
       "Wednesday     819\n",
       "Name: Day, dtype: int64"
      ]
     },
     "execution_count": 29,
     "metadata": {},
     "output_type": "execute_result"
    }
   ],
   "source": [
    "df['Day'].value_counts()"
   ]
  },
  {
   "cell_type": "code",
   "execution_count": 30,
   "metadata": {},
   "outputs": [
    {
     "data": {
      "text/plain": [
       "0    1302\n",
       "1    1447\n",
       "2     819\n",
       "3    1414\n",
       "4     916\n",
       "5     930\n",
       "6     962\n",
       "Name: DayIndex, dtype: int64"
      ]
     },
     "execution_count": 30,
     "metadata": {},
     "output_type": "execute_result"
    }
   ],
   "source": [
    "days_sorted = df['DayIndex'].value_counts().sort_index()\n",
    "days_sorted"
   ]
  },
  {
   "cell_type": "code",
   "execution_count": 31,
   "metadata": {},
   "outputs": [
    {
     "data": {
      "image/png": "[encoded data removed]",
      "text/plain": [
       "<Figure size 432x288 with 1 Axes>"
      ]
     },
     "metadata": {
      "needs_background": "light"
     },
     "output_type": "display_data"
    }
   ],
   "source": [
    "days_sorted.plot.bar()\n",
    "plt.xticks(days_sorted.index, ['M', 'T', 'W','Th', 'F', 'Sa', 'Su'], rotation=0)\n",
    "\n",
    "plt.show()"
   ]
  },
  {
   "cell_type": "code",
   "execution_count": 32,
   "metadata": {},
   "outputs": [
    {
     "data": {
      "text/html": [
       "<div>\n",
       "<style scoped>\n",
       "    .dataframe tbody tr th:only-of-type {\n",
       "        vertical-align: middle;\n",
       "    }\n",
       "\n",
       "    .dataframe tbody tr th {\n",
       "        vertical-align: top;\n",
       "    }\n",
       "\n",
       "    .dataframe thead th {\n",
       "        text-align: right;\n",
       "    }\n",
       "</style>\n",
       "<table border=\"1\" class=\"dataframe\">\n",
       "  <thead>\n",
       "    <tr style=\"text-align: right;\">\n",
       "      <th></th>\n",
       "      <th>Time</th>\n",
       "      <th>domain</th>\n",
       "      <th>Day</th>\n",
       "      <th>DayIndex</th>\n",
       "      <th>isWeekend</th>\n",
       "    </tr>\n",
       "  </thead>\n",
       "  <tbody>\n",
       "    <tr>\n",
       "      <th>0</th>\n",
       "      <td>2022-02-02 19:55:32</td>\n",
       "      <td>www.google.com</td>\n",
       "      <td>Wednesday</td>\n",
       "      <td>2</td>\n",
       "      <td>False</td>\n",
       "    </tr>\n",
       "    <tr>\n",
       "      <th>1</th>\n",
       "      <td>2022-02-02 19:55:33</td>\n",
       "      <td>web.whatsapp.com</td>\n",
       "      <td>Wednesday</td>\n",
       "      <td>2</td>\n",
       "      <td>False</td>\n",
       "    </tr>\n",
       "    <tr>\n",
       "      <th>2</th>\n",
       "      <td>2022-02-02 19:56:51</td>\n",
       "      <td>chrome.google.com</td>\n",
       "      <td>Wednesday</td>\n",
       "      <td>2</td>\n",
       "      <td>False</td>\n",
       "    </tr>\n",
       "    <tr>\n",
       "      <th>3</th>\n",
       "      <td>2022-02-02 19:56:55</td>\n",
       "      <td>www.grammarly.com</td>\n",
       "      <td>Wednesday</td>\n",
       "      <td>2</td>\n",
       "      <td>False</td>\n",
       "    </tr>\n",
       "    <tr>\n",
       "      <th>4</th>\n",
       "      <td>2022-02-02 19:57:36</td>\n",
       "      <td>accounts.google.com</td>\n",
       "      <td>Wednesday</td>\n",
       "      <td>2</td>\n",
       "      <td>False</td>\n",
       "    </tr>\n",
       "  </tbody>\n",
       "</table>\n",
       "</div>"
      ],
      "text/plain": [
       "                 Time               domain        Day  DayIndex  isWeekend\n",
       "0 2022-02-02 19:55:32       www.google.com  Wednesday         2      False\n",
       "1 2022-02-02 19:55:33     web.whatsapp.com  Wednesday         2      False\n",
       "2 2022-02-02 19:56:51    chrome.google.com  Wednesday         2      False\n",
       "3 2022-02-02 19:56:55    www.grammarly.com  Wednesday         2      False\n",
       "4 2022-02-02 19:57:36  accounts.google.com  Wednesday         2      False"
      ]
     },
     "execution_count": 32,
     "metadata": {},
     "output_type": "execute_result"
    }
   ],
   "source": [
    "def is_weekend(day): \n",
    "    return day in ['Saturday', 'Sunday']\n",
    "\n",
    "\n",
    "df['isWeekend'] = [ is_weekend(i) for i in df['Day']]\n",
    "df.head()"
   ]
  },
  {
   "cell_type": "code",
   "execution_count": 33,
   "metadata": {},
   "outputs": [],
   "source": [
    "weekend = df[ df['isWeekend'] == True ]\n",
    "\n",
    "weekday = df[ df['isWeekend'] == False ]\n"
   ]
  },
  {
   "cell_type": "code",
   "execution_count": 34,
   "metadata": {},
   "outputs": [
    {
     "data": {
      "text/html": [
       "<div>\n",
       "<style scoped>\n",
       "    .dataframe tbody tr th:only-of-type {\n",
       "        vertical-align: middle;\n",
       "    }\n",
       "\n",
       "    .dataframe tbody tr th {\n",
       "        vertical-align: top;\n",
       "    }\n",
       "\n",
       "    .dataframe thead th {\n",
       "        text-align: right;\n",
       "    }\n",
       "</style>\n",
       "<table border=\"1\" class=\"dataframe\">\n",
       "  <thead>\n",
       "    <tr style=\"text-align: right;\">\n",
       "      <th></th>\n",
       "      <th>Time</th>\n",
       "      <th>domain</th>\n",
       "      <th>Day</th>\n",
       "      <th>DayIndex</th>\n",
       "      <th>isWeekend</th>\n",
       "    </tr>\n",
       "  </thead>\n",
       "  <tbody>\n",
       "    <tr>\n",
       "      <th>561</th>\n",
       "      <td>2022-02-05 08:51:01</td>\n",
       "      <td>www.google.com</td>\n",
       "      <td>Saturday</td>\n",
       "      <td>5</td>\n",
       "      <td>True</td>\n",
       "    </tr>\n",
       "    <tr>\n",
       "      <th>562</th>\n",
       "      <td>2022-02-05 08:51:02</td>\n",
       "      <td>my.umbc.edu</td>\n",
       "      <td>Saturday</td>\n",
       "      <td>5</td>\n",
       "      <td>True</td>\n",
       "    </tr>\n",
       "    <tr>\n",
       "      <th>563</th>\n",
       "      <td>2022-02-05 08:51:11</td>\n",
       "      <td>blackboard.umbc.edu</td>\n",
       "      <td>Saturday</td>\n",
       "      <td>5</td>\n",
       "      <td>True</td>\n",
       "    </tr>\n",
       "    <tr>\n",
       "      <th>564</th>\n",
       "      <td>2022-02-05 08:51:11</td>\n",
       "      <td>webauth.umbc.edu</td>\n",
       "      <td>Saturday</td>\n",
       "      <td>5</td>\n",
       "      <td>True</td>\n",
       "    </tr>\n",
       "    <tr>\n",
       "      <th>565</th>\n",
       "      <td>2022-02-05 08:51:11</td>\n",
       "      <td>webauth.umbc.edu</td>\n",
       "      <td>Saturday</td>\n",
       "      <td>5</td>\n",
       "      <td>True</td>\n",
       "    </tr>\n",
       "  </tbody>\n",
       "</table>\n",
       "</div>"
      ],
      "text/plain": [
       "                   Time               domain       Day  DayIndex  isWeekend\n",
       "561 2022-02-05 08:51:01       www.google.com  Saturday         5       True\n",
       "562 2022-02-05 08:51:02          my.umbc.edu  Saturday         5       True\n",
       "563 2022-02-05 08:51:11  blackboard.umbc.edu  Saturday         5       True\n",
       "564 2022-02-05 08:51:11     webauth.umbc.edu  Saturday         5       True\n",
       "565 2022-02-05 08:51:11     webauth.umbc.edu  Saturday         5       True"
      ]
     },
     "execution_count": 34,
     "metadata": {},
     "output_type": "execute_result"
    }
   ],
   "source": [
    "weekend.head()"
   ]
  },
  {
   "cell_type": "code",
   "execution_count": 35,
   "metadata": {},
   "outputs": [
    {
     "data": {
      "text/plain": [
       "www.google.com         1405\n",
       "webauth.umbc.edu        643\n",
       "github.com              605\n",
       "localhost:8888          333\n",
       "blackboard.umbc.edu     265\n",
       "Name: domain, dtype: int64"
      ]
     },
     "execution_count": 35,
     "metadata": {},
     "output_type": "execute_result"
    }
   ],
   "source": [
    "weekday['domain'].value_counts()[:5]"
   ]
  },
  {
   "cell_type": "code",
   "execution_count": 36,
   "metadata": {},
   "outputs": [
    {
     "data": {
      "text/plain": [
       "www.google.com         418\n",
       "webauth.umbc.edu       232\n",
       "blackboard.umbc.edu    111\n",
       "localhost:8888          98\n",
       "www.udemy.com           90\n",
       "Name: domain, dtype: int64"
      ]
     },
     "execution_count": 36,
     "metadata": {},
     "output_type": "execute_result"
    }
   ],
   "source": [
    "weekend['domain'].value_counts()[:5]"
   ]
  },
  {
   "cell_type": "code",
   "execution_count": 27,
   "metadata": {},
   "outputs": [
    {
     "data": {
      "image/png": "[encoded data removed]",
      "text/plain": [
       "<Figure size 864x360 with 2 Axes>"
      ]
     },
     "metadata": {
      "needs_background": "light"
     },
     "output_type": "display_data"
    }
   ],
   "source": [
    "def show_stats(df, color, alpha=1, title='', fig=None):\n",
    "    hourly_counts = df.groupby(df.Time.dt.hour).domain.size()\n",
    "    \n",
    "    # fill in the missing hours\n",
    "    for h in range(24):\n",
    "        if h not in hourly_counts:\n",
    "            hourly_counts[h]=0 # I initially didn't do this and hours were not lining up\n",
    "            \n",
    "    if fig != None:\n",
    "        plt.subplot(1,2, fig)\n",
    "        \n",
    "    hourly_counts.sort_index().plot.bar(color=color, alpha=alpha)\n",
    "    plt.title(title)\n",
    "    plt.ylim([0, 1300])\n",
    "    \n",
    "\n",
    "plt.figure(figsize=(12, 5))\n",
    "show_stats( weekend, 'red', 1, 'Weekend', 1)\n",
    "    \n",
    "show_stats( weekday, 'blue', 0.5, 'Weekday', 2)\n",
    "\n",
    "plt.show()\n"
   ]
  },
  {
   "cell_type": "code",
   "execution_count": null,
   "metadata": {},
   "outputs": [],
   "source": [
    "# be skeptical about your data!\n",
    "# am I on computer a lot more on the weekdays \n",
    "# or it shows more simply because there are more weekdays "
   ]
  },
  {
   "cell_type": "code",
   "execution_count": 37,
   "metadata": {},
   "outputs": [
    {
     "data": {
      "image/png": "[encoded data removed]",
      "text/plain": [
       "<Figure size 864x360 with 2 Axes>"
      ]
     },
     "metadata": {
      "needs_background": "light"
     },
     "output_type": "display_data"
    }
   ],
   "source": [
    "def show_stats(df, color, alpha=1, title='', fig=None, y_lim = None):\n",
    "    hourly_counts = df.groupby(df.Time.dt.hour).domain.size()\n",
    "    \n",
    "    days_counts = df.Time.dt.date.nunique()\n",
    "    \n",
    "    # fill in the missing hours\n",
    "    for h in range(24):\n",
    "        if h not in hourly_counts:\n",
    "            hourly_counts[h]=0 # I initially didn't do this and hours were not lining up\n",
    "        else: \n",
    "            hourly_counts[h] = hourly_counts[h] * 100.0 /  days_counts # I multiplied by 100.0 to make it float and also not to loose decimals\n",
    "           \n",
    "    if fig != None:\n",
    "        plt.subplot(1,2, fig)\n",
    "        \n",
    "    hourly_counts.sort_index().plot.bar(color=color, alpha=alpha, title=title)\n",
    "    \n",
    "    if y_lim != None:\n",
    "        plt.ylim(y_lim)\n",
    "\n",
    "\n",
    "plt.figure(figsize=(12, 5))\n",
    "\n",
    "y_lim=[0, 1800]\n",
    "show_stats(weekend, 'red', 1, 'Weekend',fig=1, y_lim=y_lim)\n",
    "    \n",
    "show_stats(weekday, 'blue', 0.5, 'Weekday',fig=2, y_lim=y_lim)\n",
    "\n",
    "plt.show()"
   ]
  },
  {
   "cell_type": "code",
   "execution_count": 38,
   "metadata": {},
   "outputs": [
    {
     "data": {
      "text/plain": [
       "www.google.com         1823\n",
       "webauth.umbc.edu        875\n",
       "github.com              674\n",
       "localhost:8888          431\n",
       "blackboard.umbc.edu     376\n",
       "www.udemy.com           300\n",
       "stackoverflow.com       212\n",
       "my.umbc.edu             196\n",
       "www.w3schools.com       179\n",
       "www.eenadu.net          127\n",
       "Name: domain, dtype: int64"
      ]
     },
     "execution_count": 38,
     "metadata": {},
     "output_type": "execute_result"
    }
   ],
   "source": [
    "df['domain'].value_counts()[:10]"
   ]
  },
  {
   "cell_type": "code",
   "execution_count": 39,
   "metadata": {},
   "outputs": [],
   "source": [
    "def get_data_for_domain(val):\n",
    "    return df[df['domain'].str.lower().str.contains(val.lower(), regex=True)]\n",
    "\n",
    "# get_data_for_domain('youtube')"
   ]
  },
  {
   "cell_type": "code",
   "execution_count": 40,
   "metadata": {},
   "outputs": [],
   "source": [
    "def show_domain_stats(domain, color='blue', alpha=1):\n",
    "    data = get_data_for_domain(domain)\n",
    "    show_stats(data, color, alpha)\n",
    "    return data"
   ]
  },
  {
   "cell_type": "code",
   "execution_count": 58,
   "metadata": {},
   "outputs": [
    {
     "data": {
      "image/png": "[encoded data removed]",
      "text/plain": [
       "<Figure size 432x288 with 1 Axes>"
      ]
     },
     "metadata": {
      "needs_background": "light"
     },
     "output_type": "display_data"
    }
   ],
   "source": [
    "_= show_domain_stats('primevideo|netflix|youtube', 'blue')"
   ]
  },
  {
   "cell_type": "code",
   "execution_count": 59,
   "metadata": {},
   "outputs": [
    {
     "data": {
      "image/png": "[encoded data removed]",
      "text/plain": [
       "<Figure size 432x288 with 1 Axes>"
      ]
     },
     "metadata": {
      "needs_background": "light"
     },
     "output_type": "display_data"
    }
   ],
   "source": [
    "_= show_domain_stats('costco|bestbuy|walmart', 'blue')"
   ]
  },
  {
   "cell_type": "code",
   "execution_count": 69,
   "metadata": {},
   "outputs": [
    {
     "data": {
      "image/png": "[encoded data removed]",
      "text/plain": [
       "<Figure size 432x288 with 1 Axes>"
      ]
     },
     "metadata": {
      "needs_background": "light"
     },
     "output_type": "display_data"
    }
   ],
   "source": [
    "_ = show_domain_stats('stackover|udemy|blackboard', 'magenta')"
   ]
  },
  {
   "cell_type": "code",
   "execution_count": 62,
   "metadata": {},
   "outputs": [
    {
     "data": {
      "image/png": "[encoded data removed]",
      "text/plain": [
       "<Figure size 432x288 with 1 Axes>"
      ]
     },
     "metadata": {
      "needs_background": "light"
     },
     "output_type": "display_data"
    }
   ],
   "source": [
    "_ = show_domain_stats('primevideo|netflix|hotstar|hulu', 'red')"
   ]
  },
  {
   "cell_type": "code",
   "execution_count": 72,
   "metadata": {},
   "outputs": [
    {
     "data": {
      "image/png": "[encoded data removed]",
      "text/plain": [
       "<Figure size 432x288 with 1 Axes>"
      ]
     },
     "metadata": {
      "needs_background": "light"
     },
     "output_type": "display_data"
    }
   ],
   "source": [
    "_ = show_domain_stats('facebook|whatsapp|instagram', 'red')"
   ]
  },
  {
   "cell_type": "code",
   "execution_count": 70,
   "metadata": {},
   "outputs": [
    {
     "data": {
      "image/png": "[encoded data removed]",
      "text/plain": [
       "<Figure size 432x288 with 1 Axes>"
      ]
     },
     "metadata": {
      "needs_background": "light"
     },
     "output_type": "display_data"
    }
   ],
   "source": [
    "_ = show_domain_stats('umbc', 'red')"
   ]
  },
  {
   "cell_type": "code",
   "execution_count": 71,
   "metadata": {},
   "outputs": [
    {
     "data": {
      "image/png": "[encoded data removed]",
      "text/plain": [
       "<Figure size 432x288 with 1 Axes>"
      ]
     },
     "metadata": {
      "needs_background": "light"
     },
     "output_type": "display_data"
    }
   ],
   "source": [
    "_ = show_domain_stats('localhost', 'red')"
   ]
  },
  {
   "cell_type": "code",
   "execution_count": 66,
   "metadata": {},
   "outputs": [
    {
     "data": {
      "image/png": "[encoded data removed]",
      "text/plain": [
       "<Figure size 432x288 with 1 Axes>"
      ]
     },
     "metadata": {
      "needs_background": "light"
     },
     "output_type": "display_data"
    }
   ],
   "source": [
    "_ = show_domain_stats('youtube', 'red')"
   ]
  },
  {
   "cell_type": "code",
   "execution_count": 68,
   "metadata": {},
   "outputs": [
    {
     "data": {
      "image/png": "[encoded data removed]",
      "text/plain": [
       "<Figure size 432x288 with 1 Axes>"
      ]
     },
     "metadata": {
      "needs_background": "light"
     },
     "output_type": "display_data"
    }
   ],
   "source": [
    "_=show_domain_stats('amazon', 'black')"
   ]
  },
  {
   "cell_type": "markdown",
   "metadata": {},
   "source": [
    "### Based on data, what can we tell about this person?\n",
    "\n",
    "1. Is this a work computer/personal computer?\n",
    "1. Is he employed?\n",
    "1. What is his interests?\n",
    "1. Anything interesting? "
   ]
  },
  {
   "cell_type": "markdown",
   "metadata": {},
   "source": [
    "answer here"
   ]
  },
  {
   "cell_type": "markdown",
   "metadata": {},
   "source": [
    "<ol>\n",
    "    <li>Looks like a computer which is used for education purpose mostly</li>\n",
    "    <li>He is not employed, webactivity remains same almost through out the day</li>\n",
    "    <li>He is more into learning things on udemy</li>\n",
    "    <li>Data is from Feb 2022, he must have deleted or cleared history before that</li>\n",
    "    <li>Definetly sleeping between 3am to 7pm</li>\n",
    "    <li>Doesn't use social media, streaming services much</li>\n",
    "    <li>A college student as UMBC, blackboard is opened multiple times</li>\n",
    "</ol>"
   ]
  },
  {
   "cell_type": "code",
   "execution_count": null,
   "metadata": {},
   "outputs": [],
   "source": []
  }
 ],
 "metadata": {
  "kernelspec": {
   "display_name": "Python 3 (ipykernel)",
   "language": "python",
   "name": "python3"
  },
  "language_info": {
   "codemirror_mode": {
    "name": "ipython",
    "version": 3
   },
   "file_extension": ".py",
   "mimetype": "text/x-python",
   "name": "python",
   "nbconvert_exporter": "python",
   "pygments_lexer": "ipython3",
   "version": "3.9.7"
  },
  "toc": {
   "base_numbering": 1,
   "nav_menu": {},
   "number_sections": true,
   "sideBar": true,
   "skip_h1_title": false,
   "title_cell": "Table of Contents",
   "title_sidebar": "Contents",
   "toc_cell": false,
   "toc_position": {},
   "toc_section_display": true,
   "toc_window_display": false
  },
  "varInspector": {
   "cols": {
    "lenName": 16,
    "lenType": 16,
    "lenVar": 40
   },
   "kernels_config": {
    "python": {
     "delete_cmd_postfix": "",
     "delete_cmd_prefix": "del ",
     "library": "var_list.py",
     "varRefreshCmd": "print(var_dic_list())"
    },
    "r": {
     "delete_cmd_postfix": ") ",
     "delete_cmd_prefix": "rm(",
     "library": "var_list.r",
     "varRefreshCmd": "cat(var_dic_list()) "
    }
   },
   "types_to_exclude": [
    "module",
    "function",
    "builtin_function_or_method",
    "instance",
    "_Feature"
   ],
   "window_display": false
  }
 },
 "nbformat": 4,
 "nbformat_minor": 2
}
