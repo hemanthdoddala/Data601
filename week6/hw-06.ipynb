{
 "cells": [
  {
   "cell_type": "markdown",
   "metadata": {},
   "source": [
    "# Homework 6\n",
    "\n",
    "\n",
    "This homework is designed to process a large csv file (bigger than pandas can handle)\n",
    "https://github.com/msaricaumbc/DS_data/blob/master/bigfile.csv.zip?raw=true\n",
    "\n",
    "Write code to perform/answer the following actions:\n",
    "\n",
    "1. Print how many records processed\n",
    "1. Create a histogram of ages\n",
    "1. List the top 20 occupations \n",
    "\n",
    "Don't use Pandas or Dask"
   ]
  },
  {
   "cell_type": "code",
   "execution_count": null,
   "metadata": {},
   "outputs": [],
   "source": [
    "!head"
   ]
  },
  {
   "cell_type": "markdown",
   "metadata": {},
   "source": [
    "<h5>Imports</h5>"
   ]
  },
  {
   "cell_type": "code",
   "execution_count": 1,
   "metadata": {},
   "outputs": [],
   "source": [
    "from urllib import request\n",
    "from zipfile import ZipFile\n",
    "import chardet\n",
    "import time\n",
    "import pandas as pd\n",
    "import seaborn as sns\n",
    "import matplotlib.pyplot as plt"
   ]
  },
  {
   "cell_type": "code",
   "execution_count": 2,
   "metadata": {},
   "outputs": [],
   "source": [
    "# Function to download large zip file\n",
    "def download_file(file_name, url):\n",
    "    res = request.urlopen(url)\n",
    "    with open(file_name,'wb') as file:\n",
    "        file.write(res.read())"
   ]
  },
  {
   "cell_type": "code",
   "execution_count": 3,
   "metadata": {},
   "outputs": [],
   "source": [
    "download_file('largefile.zip', 'https://github.com/msaricaumbc/DS_data/blob/master/bigfile.csv.zip?raw=true')"
   ]
  },
  {
   "cell_type": "code",
   "execution_count": 4,
   "metadata": {},
   "outputs": [
    {
     "name": "stdout",
     "output_type": "stream",
     "text": [
      "PoliceShootingsUS.csv\n",
      "PoliceShootingsUS.zip\n",
      "__MACOSX\n",
      "hw-06.ipynb\n",
      "largefile.zip\n",
      "volunteers.txt\n",
      "week06_lab.ipynb\n"
     ]
    }
   ],
   "source": [
    "# Listing files to check if the file is downloaded\n",
    "!ls"
   ]
  },
  {
   "cell_type": "markdown",
   "metadata": {},
   "source": [
    "<h5>Unzipping File</h5>"
   ]
  },
  {
   "cell_type": "code",
   "execution_count": 5,
   "metadata": {},
   "outputs": [],
   "source": [
    "# Function to unzip a zip file using Zipfile module\n",
    "def unzip(file_name, path='./'):\n",
    "    # opening the zip file in READ mode \n",
    "    with ZipFile(file_name, 'r') as zip: \n",
    "        # printing all the contents of the zip file \n",
    "        zip.printdir() \n",
    "        # extracting all the files \n",
    "        print('Extracting all the files now...') \n",
    "        zip.extractall(path = path) \n",
    "        print('Done!')"
   ]
  },
  {
   "cell_type": "code",
   "execution_count": 6,
   "metadata": {},
   "outputs": [
    {
     "name": "stdout",
     "output_type": "stream",
     "text": [
      "File Name                                             Modified             Size\n",
      "bigfile.csv                                    2022-03-07 20:08:48  18034182194\n",
      "Extracting all the files now...\n",
      "Done!\n"
     ]
    }
   ],
   "source": [
    "# calling unzip function to unzip downloaded zip\n",
    "unzip('largefile.zip')"
   ]
  },
  {
   "cell_type": "code",
   "execution_count": 7,
   "metadata": {},
   "outputs": [
    {
     "name": "stdout",
     "output_type": "stream",
     "text": [
      "PoliceShootingsUS.csv\n",
      "PoliceShootingsUS.zip\n",
      "__MACOSX\n",
      "bigfile.csv\n",
      "hw-06.ipynb\n",
      "largefile.zip\n",
      "volunteers.txt\n",
      "week06_lab.ipynb\n"
     ]
    }
   ],
   "source": [
    "# list file in the current directory to check unzipped files\n",
    "!ls"
   ]
  },
  {
   "cell_type": "markdown",
   "metadata": {},
   "source": [
    "<h5>Print how many records processed</h5>"
   ]
  },
  {
   "cell_type": "code",
   "execution_count": 11,
   "metadata": {},
   "outputs": [
    {
     "name": "stdout",
     "output_type": "stream",
     "text": [
      "records processed= 600000\n",
      "time taken= 32.01787066459656\n"
     ]
    }
   ],
   "source": [
    "start = time.time()\n",
    "extracted_data=[]\n",
    "with open('bigfile.csv', 'r') as file:\n",
    "    while(True):\n",
    "        data = file.readline()\n",
    "        if not data:\n",
    "            break\n",
    "        tempList=data.split(\",\")[0:6]\n",
    "        extracted_data.append(tempList)\n",
    "print(r\"records processed=\", len(extracted_data))\n",
    "print(r\"time taken=\", time.time()-start)"
   ]
  },
  {
   "cell_type": "code",
   "execution_count": 13,
   "metadata": {},
   "outputs": [],
   "source": [
    "df=pd.DataFrame(extracted_data, columns=[\"FirstName\", \"LastName\", \"YearOfBirth\", \"Age\", \"Occupation\", \"PhoneNumber\"])"
   ]
  },
  {
   "cell_type": "code",
   "execution_count": 14,
   "metadata": {},
   "outputs": [
    {
     "name": "stdout",
     "output_type": "stream",
     "text": [
      "<class 'pandas.core.frame.DataFrame'>\n",
      "RangeIndex: 600000 entries, 0 to 599999\n",
      "Data columns (total 6 columns):\n",
      " #   Column       Non-Null Count   Dtype \n",
      "---  ------       --------------   ----- \n",
      " 0   FirstName    600000 non-null  object\n",
      " 1   LastName     600000 non-null  object\n",
      " 2   YearOfBirth  600000 non-null  object\n",
      " 3   Age          600000 non-null  object\n",
      " 4   Occupation   600000 non-null  object\n",
      " 5   PhoneNumber  600000 non-null  object\n",
      "dtypes: object(6)\n",
      "memory usage: 27.5+ MB\n"
     ]
    }
   ],
   "source": [
    "df.info()\n",
    "df.describe()\n",
    "df['Age'] = pd.to_numeric(df['Age'])\n",
    "df['YearOfBirth'] = pd.to_datetime(df.YearOfBirth).dt.year"
   ]
  },
  {
   "cell_type": "markdown",
   "metadata": {},
   "source": [
    "<h5>Create a histogram of ages</h5>"
   ]
  },
  {
   "cell_type": "code",
   "execution_count": 22,
   "metadata": {},
   "outputs": [
    {
     "data": {
      "text/plain": [
       "Text(0.5, 1.0, 'histogram of age')"
      ]
     },
     "execution_count": 22,
     "metadata": {},
     "output_type": "execute_result"
    },
    {
     "data": {
      "image/png": "[encoded data removed]",
      "text/plain": [
       "<Figure size 1800x504 with 1 Axes>"
      ]
     },
     "metadata": {
      "needs_background": "light"
     },
     "output_type": "display_data"
    }
   ],
   "source": [
    "df.groupby('Age').Age.count().plot.bar(figsize=(25, 7))\n",
    "plt.ylabel(\"count\")\n",
    "plt.title(\"histogram of age\")"
   ]
  },
  {
   "cell_type": "code",
   "execution_count": 19,
   "metadata": {},
   "outputs": [
    {
     "data": {
      "text/plain": [
       "Text(0.5, 1.0, 'Histogram of ages')"
      ]
     },
     "execution_count": 19,
     "metadata": {},
     "output_type": "execute_result"
    },
    {
     "data": {
      "image/png": "[encoded data removed]",
      "text/plain": [
       "<Figure size 432x288 with 1 Axes>"
      ]
     },
     "metadata": {
      "needs_background": "light"
     },
     "output_type": "display_data"
    }
   ],
   "source": [
    "plot=sns.histplot(data=df, x=\"Age\")\n",
    "plot.set_title('Histogram of ages')"
   ]
  },
  {
   "cell_type": "code",
   "execution_count": 20,
   "metadata": {},
   "outputs": [
    {
     "data": {
      "text/plain": [
       "Text(0.5, 1.0, 'Histogram')"
      ]
     },
     "execution_count": 20,
     "metadata": {},
     "output_type": "execute_result"
    },
    {
     "data": {
      "image/png": "[encoded data removed]",
      "text/plain": [
       "<Figure size 432x288 with 1 Axes>"
      ]
     },
     "metadata": {
      "needs_background": "light"
     },
     "output_type": "display_data"
    }
   ],
   "source": [
    "df.hist(column='Age')\n",
    "plt.ylabel('frequency')\n",
    "plt.xlabel('age')\n",
    "plt.title('Histogram')"
   ]
  },
  {
   "cell_type": "markdown",
   "metadata": {},
   "source": [
    "<h5>List the top 20 occupations</h5>"
   ]
  },
  {
   "cell_type": "code",
   "execution_count": 21,
   "metadata": {},
   "outputs": [
    {
     "data": {
      "text/plain": [
       "Occupation\n",
       "Scientist- product/process development              1064\n",
       "Psychiatric nurse                                   1037\n",
       "Therapist- sports                                   1030\n",
       "Toxicologist                                        1024\n",
       "Social researcher                                   1021\n",
       "Environmental health practitioner                   1020\n",
       "Naval architect                                     1019\n",
       "Teacher- primary school                             1018\n",
       "Administrator- charities/voluntary organisations    1018\n",
       "Chartered loss adjuster                             1012\n",
       "Field trials officer                                1008\n",
       "Photographer                                        1008\n",
       "Radio producer                                      1006\n",
       "Ranger/warden                                       1004\n",
       "Electrical engineer                                 1004\n",
       "Radiographer- diagnostic                            1004\n",
       "Administrator- education                            1003\n",
       "Acupuncturist                                       1003\n",
       "Quantity surveyor                                   1002\n",
       "Research scientist (medical)                        1001\n",
       "Name: Occupation, dtype: int64"
      ]
     },
     "execution_count": 21,
     "metadata": {},
     "output_type": "execute_result"
    }
   ],
   "source": [
    "df.groupby('Occupation').Occupation.count().sort_values(ascending=False).head(20)"
   ]
  },
  {
   "cell_type": "code",
   "execution_count": null,
   "metadata": {},
   "outputs": [],
   "source": []
  }
 ],
 "metadata": {
  "kernelspec": {
   "display_name": "Python 3 (ipykernel)",
   "language": "python",
   "name": "python3"
  },
  "language_info": {
   "codemirror_mode": {
    "name": "ipython",
    "version": 3
   },
   "file_extension": ".py",
   "mimetype": "text/x-python",
   "name": "python",
   "nbconvert_exporter": "python",
   "pygments_lexer": "ipython3",
   "version": "3.9.7"
  },
  "toc": {
   "base_numbering": 1,
   "nav_menu": {},
   "number_sections": true,
   "sideBar": true,
   "skip_h1_title": false,
   "title_cell": "Table of Contents",
   "title_sidebar": "Contents",
   "toc_cell": false,
   "toc_position": {},
   "toc_section_display": true,
   "toc_window_display": false
  },
  "varInspector": {
   "cols": {
    "lenName": 16,
    "lenType": 16,
    "lenVar": 40
   },
   "kernels_config": {
    "python": {
     "delete_cmd_postfix": "",
     "delete_cmd_prefix": "del ",
     "library": "var_list.py",
     "varRefreshCmd": "print(var_dic_list())"
    },
    "r": {
     "delete_cmd_postfix": ") ",
     "delete_cmd_prefix": "rm(",
     "library": "var_list.r",
     "varRefreshCmd": "cat(var_dic_list()) "
    }
   },
   "types_to_exclude": [
    "module",
    "function",
    "builtin_function_or_method",
    "instance",
    "_Feature"
   ],
   "window_display": false
  }
 },
 "nbformat": 4,
 "nbformat_minor": 2
}
